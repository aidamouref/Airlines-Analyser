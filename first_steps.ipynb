{
 "cells": [
  {
   "cell_type": "code",
   "execution_count": 2,
   "metadata": {},
   "outputs": [],
   "source": [
    "#IMPORT LIBRARIES\n",
    "import pandas as pd\n",
    "import numpy as np\n",
    "\n",
    "import matplotlib.pyplot as plt\n",
    "import seaborn as sns\n",
    "%matplotlib inline\n",
    "\n",
    "import warnings\n",
    "warnings.filterwarnings('ignore')"
   ]
  },
  {
   "cell_type": "code",
   "execution_count": 4,
   "metadata": {},
   "outputs": [],
   "source": [
    "#unzip the file, super large csv\n",
    "import zipfile\n",
    "with zipfile.ZipFile(\"datasets/airlinereviews128k.zip\", 'r') as zip_ref:\n",
    "    zip_ref.extractall(\"datasets\")"
   ]
  },
  {
   "cell_type": "code",
   "execution_count": 5,
   "metadata": {},
   "outputs": [],
   "source": [
    "#Import the data\n",
    "df0=pd.read_csv(\"datasets/airlinereviews128k.csv\", parse_dates=['DateFlown'])"
   ]
  },
  {
   "cell_type": "code",
   "execution_count": 6,
   "metadata": {},
   "outputs": [],
   "source": [
    "pd.set_option('display.max_columns', None)"
   ]
  },
  {
   "cell_type": "code",
   "execution_count": 7,
   "metadata": {},
   "outputs": [
    {
     "data": {
      "text/html": [
       "<div>\n",
       "<style scoped>\n",
       "    .dataframe tbody tr th:only-of-type {\n",
       "        vertical-align: middle;\n",
       "    }\n",
       "\n",
       "    .dataframe tbody tr th {\n",
       "        vertical-align: top;\n",
       "    }\n",
       "\n",
       "    .dataframe thead th {\n",
       "        text-align: right;\n",
       "    }\n",
       "</style>\n",
       "<table border=\"1\" class=\"dataframe\">\n",
       "  <thead>\n",
       "    <tr style=\"text-align: right;\">\n",
       "      <th></th>\n",
       "      <th>Aircraft</th>\n",
       "      <th>AirlineName</th>\n",
       "      <th>CabinType</th>\n",
       "      <th>DateFlown</th>\n",
       "      <th>DatePub</th>\n",
       "      <th>EntertainmentRating</th>\n",
       "      <th>FoodRating</th>\n",
       "      <th>GroundServiceRating</th>\n",
       "      <th>OriginCountry</th>\n",
       "      <th>OverallScore</th>\n",
       "      <th>Recommended</th>\n",
       "      <th>Review</th>\n",
       "      <th>Route</th>\n",
       "      <th>SeatComfortRating</th>\n",
       "      <th>ServiceRating</th>\n",
       "      <th>Slug</th>\n",
       "      <th>Title</th>\n",
       "      <th>TravelType</th>\n",
       "      <th>TripVerified</th>\n",
       "      <th>ValueRating</th>\n",
       "      <th>WifiRating</th>\n",
       "      <th>unique_id</th>\n",
       "    </tr>\n",
       "  </thead>\n",
       "  <tbody>\n",
       "    <tr>\n",
       "      <th>35201</th>\n",
       "      <td>NaN</td>\n",
       "      <td>China Eastern Airlines</td>\n",
       "      <td>Economy Class</td>\n",
       "      <td>2017-06-01</td>\n",
       "      <td>5th June 2017</td>\n",
       "      <td>1</td>\n",
       "      <td>1</td>\n",
       "      <td>2</td>\n",
       "      <td>UnitedStates</td>\n",
       "      <td>1.0</td>\n",
       "      <td>no</td>\n",
       "      <td>Shanghai to Hong Kong with China Eastern Airli...</td>\n",
       "      <td>Shanghai to Hong Kong</td>\n",
       "      <td>4</td>\n",
       "      <td>1</td>\n",
       "      <td>china-eastern-airlines</td>\n",
       "      <td>asked for a blanket, instantly told they were out</td>\n",
       "      <td>Business</td>\n",
       "      <td>NaN</td>\n",
       "      <td>4</td>\n",
       "      <td>0</td>\n",
       "      <td>e59f74f2-28d0-4467-ad9e-e2cc653e4f4d</td>\n",
       "    </tr>\n",
       "  </tbody>\n",
       "</table>\n",
       "</div>"
      ],
      "text/plain": [
       "      Aircraft             AirlineName      CabinType  DateFlown  \\\n",
       "35201      NaN  China Eastern Airlines  Economy Class 2017-06-01   \n",
       "\n",
       "             DatePub  EntertainmentRating  FoodRating  GroundServiceRating  \\\n",
       "35201  5th June 2017                    1           1                    2   \n",
       "\n",
       "      OriginCountry  OverallScore Recommended  \\\n",
       "35201  UnitedStates           1.0          no   \n",
       "\n",
       "                                                  Review  \\\n",
       "35201  Shanghai to Hong Kong with China Eastern Airli...   \n",
       "\n",
       "                       Route  SeatComfortRating  ServiceRating  \\\n",
       "35201  Shanghai to Hong Kong                  4              1   \n",
       "\n",
       "                         Slug  \\\n",
       "35201  china-eastern-airlines   \n",
       "\n",
       "                                                   Title TravelType  \\\n",
       "35201  asked for a blanket, instantly told they were out   Business   \n",
       "\n",
       "      TripVerified  ValueRating  WifiRating  \\\n",
       "35201          NaN            4           0   \n",
       "\n",
       "                                  unique_id  \n",
       "35201  e59f74f2-28d0-4467-ad9e-e2cc653e4f4d  "
      ]
     },
     "execution_count": 7,
     "metadata": {},
     "output_type": "execute_result"
    }
   ],
   "source": [
    "df0.sample()"
   ]
  },
  {
   "cell_type": "code",
   "execution_count": 8,
   "metadata": {},
   "outputs": [
    {
     "name": "stdout",
     "output_type": "stream",
     "text": [
      "<class 'pandas.core.frame.DataFrame'>\n",
      "RangeIndex: 129455 entries, 0 to 129454\n",
      "Data columns (total 22 columns):\n",
      " #   Column               Non-Null Count   Dtype         \n",
      "---  ------               --------------   -----         \n",
      " 0   Aircraft             36423 non-null   object        \n",
      " 1   AirlineName          129455 non-null  object        \n",
      " 2   CabinType            126437 non-null  object        \n",
      " 3   DateFlown            90993 non-null   datetime64[ns]\n",
      " 4   DatePub              129455 non-null  object        \n",
      " 5   EntertainmentRating  129455 non-null  int64         \n",
      " 6   FoodRating           129455 non-null  int64         \n",
      " 7   GroundServiceRating  129455 non-null  int64         \n",
      " 8   OriginCountry        127777 non-null  object        \n",
      " 9   OverallScore         125124 non-null  float64       \n",
      " 10  Recommended          129455 non-null  object        \n",
      " 11  Review               128631 non-null  object        \n",
      " 12  Route                90825 non-null   object        \n",
      " 13  SeatComfortRating    129455 non-null  int64         \n",
      " 14  ServiceRating        129455 non-null  int64         \n",
      " 15  Slug                 129455 non-null  object        \n",
      " 16  Title                129451 non-null  object        \n",
      " 17  TravelType           91146 non-null   object        \n",
      " 18  TripVerified         59508 non-null   object        \n",
      " 19  ValueRating          129455 non-null  int64         \n",
      " 20  WifiRating           129455 non-null  int64         \n",
      " 21  unique_id            129455 non-null  object        \n",
      "dtypes: datetime64[ns](1), float64(1), int64(7), object(13)\n",
      "memory usage: 21.7+ MB\n"
     ]
    }
   ],
   "source": [
    "df0.info()"
   ]
  },
  {
   "cell_type": "markdown",
   "metadata": {},
   "source": [
    "## EDA"
   ]
  },
  {
   "cell_type": "code",
   "execution_count": 6,
   "metadata": {},
   "outputs": [],
   "source": [
    "#pass names to uppercase (to differentiate better)\n",
    "df0.columns = [x.upper() for x in df0.columns]"
   ]
  },
  {
   "cell_type": "code",
   "execution_count": 7,
   "metadata": {},
   "outputs": [],
   "source": [
    "#keep only dataset with Review values and Title of Reviews\n",
    "df0=df0.dropna(subset=\"REVIEW\") #too complicated to impute\n",
    "df0=df0.dropna(subset=\"TITLE\") #too complicated to impute\n",
    "df0.reset_index(drop=True, inplace=True)"
   ]
  },
  {
   "cell_type": "code",
   "execution_count": 8,
   "metadata": {},
   "outputs": [
    {
     "data": {
      "text/plain": [
       "array(['Moroni to Moheli', 'Moroni to Anjouan', 'Anjouan to Dzaoudzi',\n",
       "       ..., 'Budapest to Göteborg', 'London to Burgas',\n",
       "       'Paris Beauvais to Riga'], dtype=object)"
      ]
     },
     "execution_count": 8,
     "metadata": {},
     "output_type": "execute_result"
    }
   ],
   "source": [
    "df0.ROUTE.unique() #probably transform it later for origin and destiny"
   ]
  },
  {
   "cell_type": "code",
   "execution_count": 9,
   "metadata": {},
   "outputs": [
    {
     "data": {
      "text/plain": [
       "TRIPVERIFIED\n",
       "Trip Verified                                45311\n",
       "Not Verified                                 13755\n",
       "NotVerified                                      9\n",
       "Trip Verified,Trip Verified                      1\n",
       "Chicago to Colorado Springs. Not Verified        1\n",
       "Name: count, dtype: int64"
      ]
     },
     "execution_count": 9,
     "metadata": {},
     "output_type": "execute_result"
    }
   ],
   "source": [
    "#clean the tripverified variable\n",
    "df0.TRIPVERIFIED.value_counts()"
   ]
  },
  {
   "cell_type": "code",
   "execution_count": 10,
   "metadata": {},
   "outputs": [],
   "source": [
    "df0[\"TRIPVERIFIED\"].replace(\"Trip Verified,Trip Verified\",\"Trip Verified \", inplace=True)\n",
    "df0[\"TRIPVERIFIED\"].replace(\"NotVerified\",\"Not Verified \", inplace=True)\n",
    "df0[\"TRIPVERIFIED\"].replace(\"Not Verified,Not Verified\",\"Not Verified \", inplace=True)\n",
    "df0[\"TRIPVERIFIED\"].replace(\"Chicago to Colorado Springs. Not Verified\",\"Not Verified \", inplace=True)\n",
    "\n",
    "df0[\"TRIPVERIFIED\"]=df0.TRIPVERIFIED.str.strip()"
   ]
  },
  {
   "cell_type": "code",
   "execution_count": 11,
   "metadata": {},
   "outputs": [
    {
     "name": "stdout",
     "output_type": "stream",
     "text": [
      "10th April 2005\n",
      "9th September 2022\n"
     ]
    }
   ],
   "source": [
    "#check time horizon to see if enough for time series\n",
    "print(df0[\"DATEPUB\"].min())\n",
    "print(df0[\"DATEPUB\"].max())\n",
    "\n",
    "#ok"
   ]
  },
  {
   "cell_type": "code",
   "execution_count": 12,
   "metadata": {},
   "outputs": [
    {
     "data": {
      "text/plain": [
       "(128627, 22)"
      ]
     },
     "execution_count": 12,
     "metadata": {},
     "output_type": "execute_result"
    }
   ],
   "source": [
    "df0.drop_duplicates()\n",
    "df0.shape #no duplicates"
   ]
  },
  {
   "cell_type": "code",
   "execution_count": 13,
   "metadata": {},
   "outputs": [
    {
     "data": {
      "text/html": [
       "<div>\n",
       "<style scoped>\n",
       "    .dataframe tbody tr th:only-of-type {\n",
       "        vertical-align: middle;\n",
       "    }\n",
       "\n",
       "    .dataframe tbody tr th {\n",
       "        vertical-align: top;\n",
       "    }\n",
       "\n",
       "    .dataframe thead th {\n",
       "        text-align: right;\n",
       "    }\n",
       "</style>\n",
       "<table border=\"1\" class=\"dataframe\">\n",
       "  <thead>\n",
       "    <tr style=\"text-align: right;\">\n",
       "      <th></th>\n",
       "      <th>DATEFLOWN</th>\n",
       "      <th>ENTERTAINMENTRATING</th>\n",
       "      <th>FOODRATING</th>\n",
       "      <th>GROUNDSERVICERATING</th>\n",
       "      <th>OVERALLSCORE</th>\n",
       "      <th>SEATCOMFORTRATING</th>\n",
       "      <th>SERVICERATING</th>\n",
       "      <th>VALUERATING</th>\n",
       "      <th>WIFIRATING</th>\n",
       "    </tr>\n",
       "  </thead>\n",
       "  <tbody>\n",
       "    <tr>\n",
       "      <th>count</th>\n",
       "      <td>90166</td>\n",
       "      <td>128627.000000</td>\n",
       "      <td>128627.000000</td>\n",
       "      <td>128627.000000</td>\n",
       "      <td>124297.000000</td>\n",
       "      <td>128627.000000</td>\n",
       "      <td>128627.000000</td>\n",
       "      <td>128627.000000</td>\n",
       "      <td>128627.000000</td>\n",
       "    </tr>\n",
       "    <tr>\n",
       "      <th>mean</th>\n",
       "      <td>2018-12-26 22:17:51.144333568</td>\n",
       "      <td>1.559260</td>\n",
       "      <td>1.991557</td>\n",
       "      <td>1.648464</td>\n",
       "      <td>4.563103</td>\n",
       "      <td>2.471518</td>\n",
       "      <td>2.690602</td>\n",
       "      <td>2.639780</td>\n",
       "      <td>0.453132</td>\n",
       "    </tr>\n",
       "    <tr>\n",
       "      <th>min</th>\n",
       "      <td>2012-04-01 00:00:00</td>\n",
       "      <td>0.000000</td>\n",
       "      <td>0.000000</td>\n",
       "      <td>0.000000</td>\n",
       "      <td>1.000000</td>\n",
       "      <td>0.000000</td>\n",
       "      <td>0.000000</td>\n",
       "      <td>0.000000</td>\n",
       "      <td>0.000000</td>\n",
       "    </tr>\n",
       "    <tr>\n",
       "      <th>25%</th>\n",
       "      <td>2017-01-01 00:00:00</td>\n",
       "      <td>0.000000</td>\n",
       "      <td>0.000000</td>\n",
       "      <td>0.000000</td>\n",
       "      <td>1.000000</td>\n",
       "      <td>1.000000</td>\n",
       "      <td>1.000000</td>\n",
       "      <td>1.000000</td>\n",
       "      <td>0.000000</td>\n",
       "    </tr>\n",
       "    <tr>\n",
       "      <th>50%</th>\n",
       "      <td>2018-11-01 00:00:00</td>\n",
       "      <td>1.000000</td>\n",
       "      <td>1.000000</td>\n",
       "      <td>1.000000</td>\n",
       "      <td>3.000000</td>\n",
       "      <td>2.000000</td>\n",
       "      <td>3.000000</td>\n",
       "      <td>2.000000</td>\n",
       "      <td>0.000000</td>\n",
       "    </tr>\n",
       "    <tr>\n",
       "      <th>75%</th>\n",
       "      <td>2020-11-01 00:00:00</td>\n",
       "      <td>3.000000</td>\n",
       "      <td>4.000000</td>\n",
       "      <td>3.000000</td>\n",
       "      <td>8.000000</td>\n",
       "      <td>4.000000</td>\n",
       "      <td>4.000000</td>\n",
       "      <td>4.000000</td>\n",
       "      <td>0.000000</td>\n",
       "    </tr>\n",
       "    <tr>\n",
       "      <th>max</th>\n",
       "      <td>2023-05-01 00:00:00</td>\n",
       "      <td>5.000000</td>\n",
       "      <td>5.000000</td>\n",
       "      <td>5.000000</td>\n",
       "      <td>10.000000</td>\n",
       "      <td>5.000000</td>\n",
       "      <td>5.000000</td>\n",
       "      <td>5.000000</td>\n",
       "      <td>5.000000</td>\n",
       "    </tr>\n",
       "    <tr>\n",
       "      <th>std</th>\n",
       "      <td>NaN</td>\n",
       "      <td>1.751718</td>\n",
       "      <td>1.774979</td>\n",
       "      <td>1.740740</td>\n",
       "      <td>3.499330</td>\n",
       "      <td>1.620989</td>\n",
       "      <td>1.775078</td>\n",
       "      <td>1.629001</td>\n",
       "      <td>1.077762</td>\n",
       "    </tr>\n",
       "  </tbody>\n",
       "</table>\n",
       "</div>"
      ],
      "text/plain": [
       "                           DATEFLOWN  ENTERTAINMENTRATING     FOODRATING  \\\n",
       "count                          90166        128627.000000  128627.000000   \n",
       "mean   2018-12-26 22:17:51.144333568             1.559260       1.991557   \n",
       "min              2012-04-01 00:00:00             0.000000       0.000000   \n",
       "25%              2017-01-01 00:00:00             0.000000       0.000000   \n",
       "50%              2018-11-01 00:00:00             1.000000       1.000000   \n",
       "75%              2020-11-01 00:00:00             3.000000       4.000000   \n",
       "max              2023-05-01 00:00:00             5.000000       5.000000   \n",
       "std                              NaN             1.751718       1.774979   \n",
       "\n",
       "       GROUNDSERVICERATING   OVERALLSCORE  SEATCOMFORTRATING  SERVICERATING  \\\n",
       "count        128627.000000  124297.000000      128627.000000  128627.000000   \n",
       "mean              1.648464       4.563103           2.471518       2.690602   \n",
       "min               0.000000       1.000000           0.000000       0.000000   \n",
       "25%               0.000000       1.000000           1.000000       1.000000   \n",
       "50%               1.000000       3.000000           2.000000       3.000000   \n",
       "75%               3.000000       8.000000           4.000000       4.000000   \n",
       "max               5.000000      10.000000           5.000000       5.000000   \n",
       "std               1.740740       3.499330           1.620989       1.775078   \n",
       "\n",
       "         VALUERATING     WIFIRATING  \n",
       "count  128627.000000  128627.000000  \n",
       "mean        2.639780       0.453132  \n",
       "min         0.000000       0.000000  \n",
       "25%         1.000000       0.000000  \n",
       "50%         2.000000       0.000000  \n",
       "75%         4.000000       0.000000  \n",
       "max         5.000000       5.000000  \n",
       "std         1.629001       1.077762  "
      ]
     },
     "execution_count": 13,
     "metadata": {},
     "output_type": "execute_result"
    }
   ],
   "source": [
    "df0.describe()"
   ]
  },
  {
   "cell_type": "code",
   "execution_count": 14,
   "metadata": {},
   "outputs": [],
   "source": [
    "from functions import nulls"
   ]
  },
  {
   "cell_type": "code",
   "execution_count": 15,
   "metadata": {},
   "outputs": [
    {
     "data": {
      "text/html": [
       "<div>\n",
       "<style scoped>\n",
       "    .dataframe tbody tr th:only-of-type {\n",
       "        vertical-align: middle;\n",
       "    }\n",
       "\n",
       "    .dataframe tbody tr th {\n",
       "        vertical-align: top;\n",
       "    }\n",
       "\n",
       "    .dataframe thead th {\n",
       "        text-align: right;\n",
       "    }\n",
       "</style>\n",
       "<table border=\"1\" class=\"dataframe\">\n",
       "  <thead>\n",
       "    <tr style=\"text-align: right;\">\n",
       "      <th></th>\n",
       "      <th>column_name</th>\n",
       "      <th>nulls_percentage</th>\n",
       "    </tr>\n",
       "  </thead>\n",
       "  <tbody>\n",
       "    <tr>\n",
       "      <th>0</th>\n",
       "      <td>AIRCRAFT</td>\n",
       "      <td>0.718939</td>\n",
       "    </tr>\n",
       "    <tr>\n",
       "      <th>1</th>\n",
       "      <td>AIRLINENAME</td>\n",
       "      <td>0.000000</td>\n",
       "    </tr>\n",
       "    <tr>\n",
       "      <th>2</th>\n",
       "      <td>CABINTYPE</td>\n",
       "      <td>0.023455</td>\n",
       "    </tr>\n",
       "    <tr>\n",
       "      <th>3</th>\n",
       "      <td>DATEFLOWN</td>\n",
       "      <td>0.299012</td>\n",
       "    </tr>\n",
       "    <tr>\n",
       "      <th>4</th>\n",
       "      <td>DATEPUB</td>\n",
       "      <td>0.000000</td>\n",
       "    </tr>\n",
       "    <tr>\n",
       "      <th>5</th>\n",
       "      <td>ENTERTAINMENTRATING</td>\n",
       "      <td>0.000000</td>\n",
       "    </tr>\n",
       "    <tr>\n",
       "      <th>6</th>\n",
       "      <td>FOODRATING</td>\n",
       "      <td>0.000000</td>\n",
       "    </tr>\n",
       "    <tr>\n",
       "      <th>7</th>\n",
       "      <td>GROUNDSERVICERATING</td>\n",
       "      <td>0.000000</td>\n",
       "    </tr>\n",
       "    <tr>\n",
       "      <th>8</th>\n",
       "      <td>ORIGINCOUNTRY</td>\n",
       "      <td>0.013045</td>\n",
       "    </tr>\n",
       "    <tr>\n",
       "      <th>9</th>\n",
       "      <td>OVERALLSCORE</td>\n",
       "      <td>0.033663</td>\n",
       "    </tr>\n",
       "    <tr>\n",
       "      <th>10</th>\n",
       "      <td>RECOMMENDED</td>\n",
       "      <td>0.000000</td>\n",
       "    </tr>\n",
       "    <tr>\n",
       "      <th>11</th>\n",
       "      <td>REVIEW</td>\n",
       "      <td>0.000000</td>\n",
       "    </tr>\n",
       "    <tr>\n",
       "      <th>12</th>\n",
       "      <td>ROUTE</td>\n",
       "      <td>0.300302</td>\n",
       "    </tr>\n",
       "    <tr>\n",
       "      <th>13</th>\n",
       "      <td>SEATCOMFORTRATING</td>\n",
       "      <td>0.000000</td>\n",
       "    </tr>\n",
       "    <tr>\n",
       "      <th>14</th>\n",
       "      <td>SERVICERATING</td>\n",
       "      <td>0.000000</td>\n",
       "    </tr>\n",
       "    <tr>\n",
       "      <th>15</th>\n",
       "      <td>SLUG</td>\n",
       "      <td>0.000000</td>\n",
       "    </tr>\n",
       "    <tr>\n",
       "      <th>16</th>\n",
       "      <td>TITLE</td>\n",
       "      <td>0.000000</td>\n",
       "    </tr>\n",
       "    <tr>\n",
       "      <th>17</th>\n",
       "      <td>TRAVELTYPE</td>\n",
       "      <td>0.297822</td>\n",
       "    </tr>\n",
       "    <tr>\n",
       "      <th>18</th>\n",
       "      <td>TRIPVERIFIED</td>\n",
       "      <td>0.540711</td>\n",
       "    </tr>\n",
       "    <tr>\n",
       "      <th>19</th>\n",
       "      <td>VALUERATING</td>\n",
       "      <td>0.000000</td>\n",
       "    </tr>\n",
       "    <tr>\n",
       "      <th>20</th>\n",
       "      <td>WIFIRATING</td>\n",
       "      <td>0.000000</td>\n",
       "    </tr>\n",
       "    <tr>\n",
       "      <th>21</th>\n",
       "      <td>UNIQUE_ID</td>\n",
       "      <td>0.000000</td>\n",
       "    </tr>\n",
       "  </tbody>\n",
       "</table>\n",
       "</div>"
      ],
      "text/plain": [
       "            column_name  nulls_percentage\n",
       "0              AIRCRAFT          0.718939\n",
       "1           AIRLINENAME          0.000000\n",
       "2             CABINTYPE          0.023455\n",
       "3             DATEFLOWN          0.299012\n",
       "4               DATEPUB          0.000000\n",
       "5   ENTERTAINMENTRATING          0.000000\n",
       "6            FOODRATING          0.000000\n",
       "7   GROUNDSERVICERATING          0.000000\n",
       "8         ORIGINCOUNTRY          0.013045\n",
       "9          OVERALLSCORE          0.033663\n",
       "10          RECOMMENDED          0.000000\n",
       "11               REVIEW          0.000000\n",
       "12                ROUTE          0.300302\n",
       "13    SEATCOMFORTRATING          0.000000\n",
       "14        SERVICERATING          0.000000\n",
       "15                 SLUG          0.000000\n",
       "16                TITLE          0.000000\n",
       "17           TRAVELTYPE          0.297822\n",
       "18         TRIPVERIFIED          0.540711\n",
       "19          VALUERATING          0.000000\n",
       "20           WIFIRATING          0.000000\n",
       "21            UNIQUE_ID          0.000000"
      ]
     },
     "execution_count": 15,
     "metadata": {},
     "output_type": "execute_result"
    }
   ],
   "source": [
    "#function to check missingness\n",
    "nulls(df0) #most under 3% so ok to impute. Check also if some variables have 0s where missing. So far: assume when 0 that is really poor service (except entertainment, that means short-distance flight)"
   ]
  },
  {
   "cell_type": "markdown",
   "metadata": {},
   "source": [
    "Need for imputation:\n",
    "- AIRCRAFT:won't be used so far, keep it like this for now\n",
    "- TRAVELTYPE: drop values as I want to keep this var but too many missing to impute efficiently\n",
    "- DATEFLOWN: ok, impute\n",
    "- ROUTE: ok, impute\n",
    "- CABINTYPE: ok, impute\n",
    "- OVERALLSCORE: ok, impute"
   ]
  },
  {
   "cell_type": "code",
   "execution_count": 16,
   "metadata": {},
   "outputs": [],
   "source": [
    "#too many missing on traveltype but I want that variable so let's drop null values from it (still enough observ.)\n",
    "\n",
    "df0=df0.dropna(subset=\"TRAVELTYPE\")"
   ]
  },
  {
   "cell_type": "code",
   "execution_count": 17,
   "metadata": {},
   "outputs": [
    {
     "data": {
      "text/plain": [
       "158"
      ]
     },
     "execution_count": 17,
     "metadata": {},
     "output_type": "execute_result"
    }
   ],
   "source": [
    "df0.DATEFLOWN.isna().sum() #ok"
   ]
  },
  {
   "cell_type": "code",
   "execution_count": 18,
   "metadata": {},
   "outputs": [],
   "source": [
    "pd.Timestamp.min\n",
    "df0['DATEFLOWN']=pd.to_datetime(df0['DATEFLOWN'].fillna(pd.Timestamp.min))"
   ]
  },
  {
   "cell_type": "code",
   "execution_count": 19,
   "metadata": {},
   "outputs": [],
   "source": [
    "#impute using the most common route (mode)\n",
    "df0['ROUTE'] = df0['ROUTE'].fillna(df0['ROUTE'].mode()[0])"
   ]
  },
  {
   "cell_type": "code",
   "execution_count": 20,
   "metadata": {},
   "outputs": [
    {
     "data": {
      "text/plain": [
       "0"
      ]
     },
     "execution_count": 20,
     "metadata": {},
     "output_type": "execute_result"
    }
   ],
   "source": [
    "df0.ROUTE.isna().sum() #ok"
   ]
  },
  {
   "cell_type": "code",
   "execution_count": 21,
   "metadata": {},
   "outputs": [],
   "source": [
    "df0['CABINTYPE'] = df0['CABINTYPE'].fillna(df0['CABINTYPE'].mode()[0])"
   ]
  },
  {
   "cell_type": "code",
   "execution_count": 22,
   "metadata": {},
   "outputs": [
    {
     "data": {
      "text/plain": [
       "0"
      ]
     },
     "execution_count": 22,
     "metadata": {},
     "output_type": "execute_result"
    }
   ],
   "source": [
    "df0.CABINTYPE.isna().sum() #ok"
   ]
  },
  {
   "cell_type": "code",
   "execution_count": 23,
   "metadata": {},
   "outputs": [
    {
     "data": {
      "text/html": [
       "<div>\n",
       "<style scoped>\n",
       "    .dataframe tbody tr th:only-of-type {\n",
       "        vertical-align: middle;\n",
       "    }\n",
       "\n",
       "    .dataframe tbody tr th {\n",
       "        vertical-align: top;\n",
       "    }\n",
       "\n",
       "    .dataframe thead th {\n",
       "        text-align: right;\n",
       "    }\n",
       "</style>\n",
       "<table border=\"1\" class=\"dataframe\">\n",
       "  <thead>\n",
       "    <tr style=\"text-align: right;\">\n",
       "      <th></th>\n",
       "      <th>column_name</th>\n",
       "      <th>nulls_percentage</th>\n",
       "    </tr>\n",
       "  </thead>\n",
       "  <tbody>\n",
       "    <tr>\n",
       "      <th>0</th>\n",
       "      <td>AIRCRAFT</td>\n",
       "      <td>0.599763</td>\n",
       "    </tr>\n",
       "    <tr>\n",
       "      <th>1</th>\n",
       "      <td>AIRLINENAME</td>\n",
       "      <td>0.000000</td>\n",
       "    </tr>\n",
       "    <tr>\n",
       "      <th>2</th>\n",
       "      <td>CABINTYPE</td>\n",
       "      <td>0.000000</td>\n",
       "    </tr>\n",
       "    <tr>\n",
       "      <th>3</th>\n",
       "      <td>DATEFLOWN</td>\n",
       "      <td>0.000000</td>\n",
       "    </tr>\n",
       "    <tr>\n",
       "      <th>4</th>\n",
       "      <td>DATEPUB</td>\n",
       "      <td>0.000000</td>\n",
       "    </tr>\n",
       "    <tr>\n",
       "      <th>5</th>\n",
       "      <td>ENTERTAINMENTRATING</td>\n",
       "      <td>0.000000</td>\n",
       "    </tr>\n",
       "    <tr>\n",
       "      <th>6</th>\n",
       "      <td>FOODRATING</td>\n",
       "      <td>0.000000</td>\n",
       "    </tr>\n",
       "    <tr>\n",
       "      <th>7</th>\n",
       "      <td>GROUNDSERVICERATING</td>\n",
       "      <td>0.000000</td>\n",
       "    </tr>\n",
       "    <tr>\n",
       "      <th>8</th>\n",
       "      <td>ORIGINCOUNTRY</td>\n",
       "      <td>0.000000</td>\n",
       "    </tr>\n",
       "    <tr>\n",
       "      <th>9</th>\n",
       "      <td>OVERALLSCORE</td>\n",
       "      <td>0.000011</td>\n",
       "    </tr>\n",
       "    <tr>\n",
       "      <th>10</th>\n",
       "      <td>RECOMMENDED</td>\n",
       "      <td>0.000000</td>\n",
       "    </tr>\n",
       "    <tr>\n",
       "      <th>11</th>\n",
       "      <td>REVIEW</td>\n",
       "      <td>0.000000</td>\n",
       "    </tr>\n",
       "    <tr>\n",
       "      <th>12</th>\n",
       "      <td>ROUTE</td>\n",
       "      <td>0.000000</td>\n",
       "    </tr>\n",
       "    <tr>\n",
       "      <th>13</th>\n",
       "      <td>SEATCOMFORTRATING</td>\n",
       "      <td>0.000000</td>\n",
       "    </tr>\n",
       "    <tr>\n",
       "      <th>14</th>\n",
       "      <td>SERVICERATING</td>\n",
       "      <td>0.000000</td>\n",
       "    </tr>\n",
       "    <tr>\n",
       "      <th>15</th>\n",
       "      <td>SLUG</td>\n",
       "      <td>0.000000</td>\n",
       "    </tr>\n",
       "    <tr>\n",
       "      <th>16</th>\n",
       "      <td>TITLE</td>\n",
       "      <td>0.000000</td>\n",
       "    </tr>\n",
       "    <tr>\n",
       "      <th>17</th>\n",
       "      <td>TRAVELTYPE</td>\n",
       "      <td>0.000000</td>\n",
       "    </tr>\n",
       "    <tr>\n",
       "      <th>18</th>\n",
       "      <td>TRIPVERIFIED</td>\n",
       "      <td>0.345929</td>\n",
       "    </tr>\n",
       "    <tr>\n",
       "      <th>19</th>\n",
       "      <td>VALUERATING</td>\n",
       "      <td>0.000000</td>\n",
       "    </tr>\n",
       "    <tr>\n",
       "      <th>20</th>\n",
       "      <td>WIFIRATING</td>\n",
       "      <td>0.000000</td>\n",
       "    </tr>\n",
       "    <tr>\n",
       "      <th>21</th>\n",
       "      <td>UNIQUE_ID</td>\n",
       "      <td>0.000000</td>\n",
       "    </tr>\n",
       "  </tbody>\n",
       "</table>\n",
       "</div>"
      ],
      "text/plain": [
       "            column_name  nulls_percentage\n",
       "0              AIRCRAFT          0.599763\n",
       "1           AIRLINENAME          0.000000\n",
       "2             CABINTYPE          0.000000\n",
       "3             DATEFLOWN          0.000000\n",
       "4               DATEPUB          0.000000\n",
       "5   ENTERTAINMENTRATING          0.000000\n",
       "6            FOODRATING          0.000000\n",
       "7   GROUNDSERVICERATING          0.000000\n",
       "8         ORIGINCOUNTRY          0.000000\n",
       "9          OVERALLSCORE          0.000011\n",
       "10          RECOMMENDED          0.000000\n",
       "11               REVIEW          0.000000\n",
       "12                ROUTE          0.000000\n",
       "13    SEATCOMFORTRATING          0.000000\n",
       "14        SERVICERATING          0.000000\n",
       "15                 SLUG          0.000000\n",
       "16                TITLE          0.000000\n",
       "17           TRAVELTYPE          0.000000\n",
       "18         TRIPVERIFIED          0.345929\n",
       "19          VALUERATING          0.000000\n",
       "20           WIFIRATING          0.000000\n",
       "21            UNIQUE_ID          0.000000"
      ]
     },
     "execution_count": 23,
     "metadata": {},
     "output_type": "execute_result"
    }
   ],
   "source": [
    "nulls(df0)"
   ]
  },
  {
   "cell_type": "code",
   "execution_count": 24,
   "metadata": {},
   "outputs": [
    {
     "data": {
      "text/plain": [
       "OVERALLSCORE\n",
       "1.0     39008\n",
       "2.0      9363\n",
       "10.0     9012\n",
       "9.0      7413\n",
       "8.0      6775\n",
       "3.0      5541\n",
       "7.0      4459\n",
       "4.0      3099\n",
       "5.0      2964\n",
       "6.0      2684\n",
       "Name: count, dtype: int64"
      ]
     },
     "execution_count": 24,
     "metadata": {},
     "output_type": "execute_result"
    }
   ],
   "source": [
    "df0.OVERALLSCORE.value_counts()"
   ]
  },
  {
   "cell_type": "code",
   "execution_count": 25,
   "metadata": {},
   "outputs": [],
   "source": [
    "df0['OVERALLSCORE']=df0.OVERALLSCORE.fillna(round(np.mean(df0.OVERALLSCORE))) "
   ]
  },
  {
   "cell_type": "code",
   "execution_count": 26,
   "metadata": {},
   "outputs": [
    {
     "data": {
      "text/plain": [
       "0"
      ]
     },
     "execution_count": 26,
     "metadata": {},
     "output_type": "execute_result"
    }
   ],
   "source": [
    "df0.OVERALLSCORE.isna().sum() #ok"
   ]
  },
  {
   "cell_type": "code",
   "execution_count": 27,
   "metadata": {},
   "outputs": [],
   "source": [
    "#TripVerified: assume that missing is 'not verified'"
   ]
  },
  {
   "cell_type": "code",
   "execution_count": 28,
   "metadata": {},
   "outputs": [],
   "source": [
    "df0['TRIPVERIFIED']=df0.TRIPVERIFIED.fillna(\"Not Verified\") "
   ]
  },
  {
   "cell_type": "code",
   "execution_count": 29,
   "metadata": {},
   "outputs": [
    {
     "data": {
      "text/plain": [
       "0"
      ]
     },
     "execution_count": 29,
     "metadata": {},
     "output_type": "execute_result"
    }
   ],
   "source": [
    "df0.TRIPVERIFIED.isna().sum() #ok"
   ]
  },
  {
   "cell_type": "code",
   "execution_count": 30,
   "metadata": {},
   "outputs": [],
   "source": [
    "#for now, in the rating vars asumme that 0 is 0 and non missing (if no service, I put a 0)"
   ]
  },
  {
   "cell_type": "code",
   "execution_count": 31,
   "metadata": {},
   "outputs": [],
   "source": [
    "df0[\"OVERALLSCORE\"] = df0[\"OVERALLSCORE\"].astype(int)"
   ]
  },
  {
   "cell_type": "code",
   "execution_count": 32,
   "metadata": {},
   "outputs": [],
   "source": [
    "df0.reset_index(drop=True, inplace=True)"
   ]
  },
  {
   "cell_type": "code",
   "execution_count": 33,
   "metadata": {},
   "outputs": [],
   "source": [
    "df=df0.drop(columns=\"AIRCRAFT\")"
   ]
  },
  {
   "cell_type": "code",
   "execution_count": 34,
   "metadata": {},
   "outputs": [
    {
     "name": "stdout",
     "output_type": "stream",
     "text": [
      "<class 'pandas.core.frame.DataFrame'>\n",
      "RangeIndex: 90319 entries, 0 to 90318\n",
      "Data columns (total 22 columns):\n",
      " #   Column               Non-Null Count  Dtype         \n",
      "---  ------               --------------  -----         \n",
      " 0   AIRCRAFT             36149 non-null  object        \n",
      " 1   AIRLINENAME          90319 non-null  object        \n",
      " 2   CABINTYPE            90319 non-null  object        \n",
      " 3   DATEFLOWN            90319 non-null  datetime64[ns]\n",
      " 4   DATEPUB              90319 non-null  object        \n",
      " 5   ENTERTAINMENTRATING  90319 non-null  int64         \n",
      " 6   FOODRATING           90319 non-null  int64         \n",
      " 7   GROUNDSERVICERATING  90319 non-null  int64         \n",
      " 8   ORIGINCOUNTRY        90319 non-null  object        \n",
      " 9   OVERALLSCORE         90319 non-null  int32         \n",
      " 10  RECOMMENDED          90319 non-null  object        \n",
      " 11  REVIEW               90319 non-null  object        \n",
      " 12  ROUTE                90319 non-null  object        \n",
      " 13  SEATCOMFORTRATING    90319 non-null  int64         \n",
      " 14  SERVICERATING        90319 non-null  int64         \n",
      " 15  SLUG                 90319 non-null  object        \n",
      " 16  TITLE                90319 non-null  object        \n",
      " 17  TRAVELTYPE           90319 non-null  object        \n",
      " 18  TRIPVERIFIED         90319 non-null  object        \n",
      " 19  VALUERATING          90319 non-null  int64         \n",
      " 20  WIFIRATING           90319 non-null  int64         \n",
      " 21  UNIQUE_ID            90319 non-null  object        \n",
      "dtypes: datetime64[ns](1), int32(1), int64(7), object(13)\n",
      "memory usage: 14.8+ MB\n"
     ]
    }
   ],
   "source": [
    "df0.info()"
   ]
  },
  {
   "cell_type": "code",
   "execution_count": 35,
   "metadata": {},
   "outputs": [
    {
     "data": {
      "text/plain": [
       "(90319, 22)"
      ]
     },
     "execution_count": 35,
     "metadata": {},
     "output_type": "execute_result"
    }
   ],
   "source": [
    "df0.shape"
   ]
  },
  {
   "cell_type": "code",
   "execution_count": 36,
   "metadata": {},
   "outputs": [
    {
     "data": {
      "text/plain": [
       "(90319, 21)"
      ]
     },
     "execution_count": 36,
     "metadata": {},
     "output_type": "execute_result"
    }
   ],
   "source": [
    "df.shape "
   ]
  },
  {
   "cell_type": "code",
   "execution_count": 37,
   "metadata": {},
   "outputs": [],
   "source": [
    "##CHECK VALUES OF VARIABLES"
   ]
  },
  {
   "cell_type": "code",
   "execution_count": 38,
   "metadata": {},
   "outputs": [
    {
     "data": {
      "text/plain": [
       "CABINTYPE\n",
       "Economy Class      74836\n",
       "Business Class     10507\n",
       "Premium Economy     3360\n",
       "First Class         1616\n",
       "Name: count, dtype: int64"
      ]
     },
     "execution_count": 38,
     "metadata": {},
     "output_type": "execute_result"
    }
   ],
   "source": [
    "df.CABINTYPE.value_counts() #ok"
   ]
  },
  {
   "cell_type": "code",
   "execution_count": 39,
   "metadata": {},
   "outputs": [
    {
     "data": {
      "text/plain": [
       "ENTERTAINMENTRATING\n",
       "0    39937\n",
       "1    19423\n",
       "4     8641\n",
       "3     8480\n",
       "5     7984\n",
       "2     5854\n",
       "Name: count, dtype: int64"
      ]
     },
     "execution_count": 39,
     "metadata": {},
     "output_type": "execute_result"
    }
   ],
   "source": [
    "df.ENTERTAINMENTRATING.value_counts()"
   ]
  },
  {
   "cell_type": "code",
   "execution_count": 40,
   "metadata": {},
   "outputs": [
    {
     "data": {
      "text/plain": [
       "FOODRATING\n",
       "0    26019\n",
       "1    23418\n",
       "5    10827\n",
       "3    10675\n",
       "4    10594\n",
       "2     8786\n",
       "Name: count, dtype: int64"
      ]
     },
     "execution_count": 40,
     "metadata": {},
     "output_type": "execute_result"
    }
   ],
   "source": [
    "df.FOODRATING.value_counts()"
   ]
  },
  {
   "cell_type": "code",
   "execution_count": 41,
   "metadata": {},
   "outputs": [
    {
     "data": {
      "text/plain": [
       "GROUNDSERVICERATING\n",
       "1    42006\n",
       "5    15405\n",
       "4    12225\n",
       "3     9399\n",
       "2     7759\n",
       "0     3525\n",
       "Name: count, dtype: int64"
      ]
     },
     "execution_count": 41,
     "metadata": {},
     "output_type": "execute_result"
    }
   ],
   "source": [
    "df.GROUNDSERVICERATING.value_counts()"
   ]
  },
  {
   "cell_type": "code",
   "execution_count": 42,
   "metadata": {},
   "outputs": [
    {
     "data": {
      "text/plain": [
       "OVERALLSCORE\n",
       "1     39008\n",
       "2      9363\n",
       "10     9012\n",
       "9      7413\n",
       "8      6775\n",
       "3      5541\n",
       "7      4459\n",
       "4      3100\n",
       "5      2964\n",
       "6      2684\n",
       "Name: count, dtype: int64"
      ]
     },
     "execution_count": 42,
     "metadata": {},
     "output_type": "execute_result"
    }
   ],
   "source": [
    "df.OVERALLSCORE.value_counts()"
   ]
  },
  {
   "cell_type": "code",
   "execution_count": 43,
   "metadata": {},
   "outputs": [
    {
     "data": {
      "text/plain": [
       "SEATCOMFORTRATING\n",
       "1    28506\n",
       "3    15943\n",
       "4    14855\n",
       "2    12681\n",
       "5    12141\n",
       "0     6193\n",
       "Name: count, dtype: int64"
      ]
     },
     "execution_count": 43,
     "metadata": {},
     "output_type": "execute_result"
    }
   ],
   "source": [
    "df.SEATCOMFORTRATING.value_counts()"
   ]
  },
  {
   "cell_type": "code",
   "execution_count": 44,
   "metadata": {},
   "outputs": [
    {
     "data": {
      "text/plain": [
       "SERVICERATING\n",
       "1    26623\n",
       "5    21438\n",
       "4    12694\n",
       "3    12484\n",
       "2    10587\n",
       "0     6493\n",
       "Name: count, dtype: int64"
      ]
     },
     "execution_count": 44,
     "metadata": {},
     "output_type": "execute_result"
    }
   ],
   "source": [
    "df.SERVICERATING.value_counts()"
   ]
  },
  {
   "cell_type": "code",
   "execution_count": 45,
   "metadata": {},
   "outputs": [
    {
     "data": {
      "text/plain": [
       "VALUERATING\n",
       "1    41477\n",
       "5    17176\n",
       "4    11373\n",
       "2    10647\n",
       "3     9632\n",
       "0       14\n",
       "Name: count, dtype: int64"
      ]
     },
     "execution_count": 45,
     "metadata": {},
     "output_type": "execute_result"
    }
   ],
   "source": [
    "df.VALUERATING.value_counts()"
   ]
  },
  {
   "cell_type": "code",
   "execution_count": 46,
   "metadata": {},
   "outputs": [
    {
     "data": {
      "text/plain": [
       "WIFIRATING\n",
       "0    61095\n",
       "1    17846\n",
       "5     3137\n",
       "3     3048\n",
       "4     2612\n",
       "2     2581\n",
       "Name: count, dtype: int64"
      ]
     },
     "execution_count": 46,
     "metadata": {},
     "output_type": "execute_result"
    }
   ],
   "source": [
    "df.WIFIRATING.value_counts()"
   ]
  },
  {
   "cell_type": "code",
   "execution_count": 47,
   "metadata": {},
   "outputs": [
    {
     "data": {
      "text/plain": [
       "TRAVELTYPE\n",
       "Solo Leisure      32957\n",
       "Couple Leisure    23611\n",
       "Family Leisure    19703\n",
       "Business          14048\n",
       "Name: count, dtype: int64"
      ]
     },
     "execution_count": 47,
     "metadata": {},
     "output_type": "execute_result"
    }
   ],
   "source": [
    "df.TRAVELTYPE.value_counts()"
   ]
  },
  {
   "cell_type": "code",
   "execution_count": 48,
   "metadata": {},
   "outputs": [
    {
     "data": {
      "text/plain": [
       "TRIPVERIFIED\n",
       "Trip Verified    45310\n",
       "Not Verified     45009\n",
       "Name: count, dtype: int64"
      ]
     },
     "execution_count": 48,
     "metadata": {},
     "output_type": "execute_result"
    }
   ],
   "source": [
    "df.TRIPVERIFIED.value_counts()"
   ]
  },
  {
   "cell_type": "code",
   "execution_count": 49,
   "metadata": {},
   "outputs": [
    {
     "name": "stdout",
     "output_type": "stream",
     "text": [
      "<class 'pandas.core.frame.DataFrame'>\n",
      "RangeIndex: 90319 entries, 0 to 90318\n",
      "Data columns (total 21 columns):\n",
      " #   Column               Non-Null Count  Dtype         \n",
      "---  ------               --------------  -----         \n",
      " 0   AIRLINENAME          90319 non-null  object        \n",
      " 1   CABINTYPE            90319 non-null  object        \n",
      " 2   DATEFLOWN            90319 non-null  datetime64[ns]\n",
      " 3   DATEPUB              90319 non-null  object        \n",
      " 4   ENTERTAINMENTRATING  90319 non-null  int64         \n",
      " 5   FOODRATING           90319 non-null  int64         \n",
      " 6   GROUNDSERVICERATING  90319 non-null  int64         \n",
      " 7   ORIGINCOUNTRY        90319 non-null  object        \n",
      " 8   OVERALLSCORE         90319 non-null  int32         \n",
      " 9   RECOMMENDED          90319 non-null  object        \n",
      " 10  REVIEW               90319 non-null  object        \n",
      " 11  ROUTE                90319 non-null  object        \n",
      " 12  SEATCOMFORTRATING    90319 non-null  int64         \n",
      " 13  SERVICERATING        90319 non-null  int64         \n",
      " 14  SLUG                 90319 non-null  object        \n",
      " 15  TITLE                90319 non-null  object        \n",
      " 16  TRAVELTYPE           90319 non-null  object        \n",
      " 17  TRIPVERIFIED         90319 non-null  object        \n",
      " 18  VALUERATING          90319 non-null  int64         \n",
      " 19  WIFIRATING           90319 non-null  int64         \n",
      " 20  UNIQUE_ID            90319 non-null  object        \n",
      "dtypes: datetime64[ns](1), int32(1), int64(7), object(12)\n",
      "memory usage: 14.1+ MB\n"
     ]
    }
   ],
   "source": [
    "df.info()"
   ]
  },
  {
   "cell_type": "markdown",
   "metadata": {},
   "source": [
    "## FEATURE ENGINEERING"
   ]
  },
  {
   "cell_type": "code",
   "execution_count": 50,
   "metadata": {},
   "outputs": [],
   "source": [
    "#Transform the travel type variable in two: type of traveller (solo, family, business) and purpose (leisure, business)"
   ]
  },
  {
   "cell_type": "code",
   "execution_count": 51,
   "metadata": {},
   "outputs": [],
   "source": [
    "travell_transf=df[\"TRAVELTYPE\"].str.split(\" \", expand=True)"
   ]
  },
  {
   "cell_type": "code",
   "execution_count": 52,
   "metadata": {},
   "outputs": [],
   "source": [
    "travell_transf.rename(columns={travell_transf.columns[0]: 'TRAVELLER'}, inplace=True)\n",
    "travell_transf.rename(columns={travell_transf.columns[1]: 'PURPOSE'}, inplace=True)"
   ]
  },
  {
   "cell_type": "code",
   "execution_count": 53,
   "metadata": {},
   "outputs": [
    {
     "data": {
      "text/plain": [
       "TRAVELLER\n",
       "Solo        32957\n",
       "Couple      23611\n",
       "Family      19703\n",
       "Business    14048\n",
       "Name: count, dtype: int64"
      ]
     },
     "execution_count": 53,
     "metadata": {},
     "output_type": "execute_result"
    }
   ],
   "source": [
    "travell_transf.TRAVELLER.value_counts()"
   ]
  },
  {
   "cell_type": "code",
   "execution_count": 54,
   "metadata": {},
   "outputs": [],
   "source": [
    "travell_transf[\"PURPOSE\"]=np.where(travell_transf['TRAVELLER']==\"Business\", \"Bussiness\",travell_transf.PURPOSE)"
   ]
  },
  {
   "cell_type": "code",
   "execution_count": 55,
   "metadata": {},
   "outputs": [],
   "source": [
    "travell_transf[\"TRAVELLER\"]=np.where(travell_transf['TRAVELLER']==\"Business\", \"Solo\",travell_transf.TRAVELLER) #assume business is 'solo' in traveller_type"
   ]
  },
  {
   "cell_type": "code",
   "execution_count": 56,
   "metadata": {},
   "outputs": [
    {
     "data": {
      "text/plain": [
       "16"
      ]
     },
     "execution_count": 56,
     "metadata": {},
     "output_type": "execute_result"
    }
   ],
   "source": [
    "df.columns.get_loc('TRAVELTYPE') "
   ]
  },
  {
   "cell_type": "code",
   "execution_count": 57,
   "metadata": {},
   "outputs": [],
   "source": [
    "df = pd.concat([df.iloc[:, :17], travell_transf, df.iloc[:, 17:]], axis=1)"
   ]
  },
  {
   "cell_type": "code",
   "execution_count": 58,
   "metadata": {},
   "outputs": [],
   "source": [
    "df.drop(columns='TRAVELTYPE', inplace=True)"
   ]
  },
  {
   "cell_type": "code",
   "execution_count": 59,
   "metadata": {},
   "outputs": [
    {
     "data": {
      "text/plain": [
       "RECOMMENDED\n",
       "no     59309\n",
       "yes    31010\n",
       "Name: count, dtype: int64"
      ]
     },
     "execution_count": 59,
     "metadata": {},
     "output_type": "execute_result"
    }
   ],
   "source": [
    "df.RECOMMENDED.value_counts() #quite imbalanced. Need to balance it?"
   ]
  },
  {
   "cell_type": "code",
   "execution_count": 60,
   "metadata": {},
   "outputs": [
    {
     "data": {
      "text/html": [
       "<div>\n",
       "<style scoped>\n",
       "    .dataframe tbody tr th:only-of-type {\n",
       "        vertical-align: middle;\n",
       "    }\n",
       "\n",
       "    .dataframe tbody tr th {\n",
       "        vertical-align: top;\n",
       "    }\n",
       "\n",
       "    .dataframe thead th {\n",
       "        text-align: right;\n",
       "    }\n",
       "</style>\n",
       "<table border=\"1\" class=\"dataframe\">\n",
       "  <thead>\n",
       "    <tr style=\"text-align: right;\">\n",
       "      <th></th>\n",
       "      <th>AIRLINENAME</th>\n",
       "      <th>CABINTYPE</th>\n",
       "      <th>DATEFLOWN</th>\n",
       "      <th>DATEPUB</th>\n",
       "      <th>ENTERTAINMENTRATING</th>\n",
       "      <th>FOODRATING</th>\n",
       "      <th>GROUNDSERVICERATING</th>\n",
       "      <th>ORIGINCOUNTRY</th>\n",
       "      <th>OVERALLSCORE</th>\n",
       "      <th>RECOMMENDED</th>\n",
       "      <th>REVIEW</th>\n",
       "      <th>ROUTE</th>\n",
       "      <th>SEATCOMFORTRATING</th>\n",
       "      <th>SERVICERATING</th>\n",
       "      <th>SLUG</th>\n",
       "      <th>TITLE</th>\n",
       "      <th>TRAVELLER</th>\n",
       "      <th>PURPOSE</th>\n",
       "      <th>TRIPVERIFIED</th>\n",
       "      <th>VALUERATING</th>\n",
       "      <th>WIFIRATING</th>\n",
       "      <th>UNIQUE_ID</th>\n",
       "    </tr>\n",
       "  </thead>\n",
       "  <tbody>\n",
       "    <tr>\n",
       "      <th>66493</th>\n",
       "      <td>Southwest Airlines</td>\n",
       "      <td>Economy Class</td>\n",
       "      <td>2022-09-01</td>\n",
       "      <td>26th September 2022</td>\n",
       "      <td>1</td>\n",
       "      <td>1</td>\n",
       "      <td>1</td>\n",
       "      <td>UnitedStates</td>\n",
       "      <td>1</td>\n",
       "      <td>no</td>\n",
       "      <td>I had two carry on bags and a cross body bag (...</td>\n",
       "      <td>Seattle to Sacramento</td>\n",
       "      <td>2</td>\n",
       "      <td>3</td>\n",
       "      <td>southwest-airlines</td>\n",
       "      <td>paid $30 extra dollars to get priority boarding</td>\n",
       "      <td>Solo</td>\n",
       "      <td>Leisure</td>\n",
       "      <td>Not Verified</td>\n",
       "      <td>1</td>\n",
       "      <td>1</td>\n",
       "      <td>8011588c-e106-478d-8647-39554f92abf3</td>\n",
       "    </tr>\n",
       "  </tbody>\n",
       "</table>\n",
       "</div>"
      ],
      "text/plain": [
       "              AIRLINENAME      CABINTYPE  DATEFLOWN              DATEPUB  \\\n",
       "66493  Southwest Airlines  Economy Class 2022-09-01  26th September 2022   \n",
       "\n",
       "       ENTERTAINMENTRATING  FOODRATING  GROUNDSERVICERATING ORIGINCOUNTRY  \\\n",
       "66493                    1           1                    1  UnitedStates   \n",
       "\n",
       "       OVERALLSCORE RECOMMENDED  \\\n",
       "66493             1          no   \n",
       "\n",
       "                                                  REVIEW  \\\n",
       "66493  I had two carry on bags and a cross body bag (...   \n",
       "\n",
       "                       ROUTE  SEATCOMFORTRATING  SERVICERATING  \\\n",
       "66493  Seattle to Sacramento                  2              3   \n",
       "\n",
       "                     SLUG                                            TITLE  \\\n",
       "66493  southwest-airlines  paid $30 extra dollars to get priority boarding   \n",
       "\n",
       "      TRAVELLER  PURPOSE  TRIPVERIFIED  VALUERATING  WIFIRATING  \\\n",
       "66493      Solo  Leisure  Not Verified            1           1   \n",
       "\n",
       "                                  UNIQUE_ID  \n",
       "66493  8011588c-e106-478d-8647-39554f92abf3  "
      ]
     },
     "execution_count": 60,
     "metadata": {},
     "output_type": "execute_result"
    }
   ],
   "source": [
    "df.sample()"
   ]
  },
  {
   "cell_type": "code",
   "execution_count": 61,
   "metadata": {},
   "outputs": [],
   "source": [
    "#clean variable #ROUTE"
   ]
  },
  {
   "cell_type": "code",
   "execution_count": 62,
   "metadata": {},
   "outputs": [],
   "source": [
    "route_origin = df[\"ROUTE\"].str.split(r\"\\bto\\b\", expand=True)"
   ]
  },
  {
   "cell_type": "code",
   "execution_count": 63,
   "metadata": {},
   "outputs": [
    {
     "data": {
      "text/html": [
       "<div>\n",
       "<style scoped>\n",
       "    .dataframe tbody tr th:only-of-type {\n",
       "        vertical-align: middle;\n",
       "    }\n",
       "\n",
       "    .dataframe tbody tr th {\n",
       "        vertical-align: top;\n",
       "    }\n",
       "\n",
       "    .dataframe thead th {\n",
       "        text-align: right;\n",
       "    }\n",
       "</style>\n",
       "<table border=\"1\" class=\"dataframe\">\n",
       "  <thead>\n",
       "    <tr style=\"text-align: right;\">\n",
       "      <th></th>\n",
       "      <th>0</th>\n",
       "      <th>1</th>\n",
       "      <th>2</th>\n",
       "      <th>3</th>\n",
       "      <th>4</th>\n",
       "    </tr>\n",
       "  </thead>\n",
       "  <tbody>\n",
       "    <tr>\n",
       "      <th>0</th>\n",
       "      <td>Moroni</td>\n",
       "      <td>Moheli</td>\n",
       "      <td>None</td>\n",
       "      <td>None</td>\n",
       "      <td>None</td>\n",
       "    </tr>\n",
       "    <tr>\n",
       "      <th>1</th>\n",
       "      <td>Moroni</td>\n",
       "      <td>Anjouan</td>\n",
       "      <td>None</td>\n",
       "      <td>None</td>\n",
       "      <td>None</td>\n",
       "    </tr>\n",
       "    <tr>\n",
       "      <th>2</th>\n",
       "      <td>Anjouan</td>\n",
       "      <td>Dzaoudzi</td>\n",
       "      <td>None</td>\n",
       "      <td>None</td>\n",
       "      <td>None</td>\n",
       "    </tr>\n",
       "    <tr>\n",
       "      <th>3</th>\n",
       "      <td>Milano</td>\n",
       "      <td>Olbia</td>\n",
       "      <td>None</td>\n",
       "      <td>None</td>\n",
       "      <td>None</td>\n",
       "    </tr>\n",
       "    <tr>\n",
       "      <th>4</th>\n",
       "      <td>Cascais</td>\n",
       "      <td>Bragança</td>\n",
       "      <td>None</td>\n",
       "      <td>None</td>\n",
       "      <td>None</td>\n",
       "    </tr>\n",
       "  </tbody>\n",
       "</table>\n",
       "</div>"
      ],
      "text/plain": [
       "          0          1     2     3     4\n",
       "0   Moroni      Moheli  None  None  None\n",
       "1   Moroni     Anjouan  None  None  None\n",
       "2  Anjouan    Dzaoudzi  None  None  None\n",
       "3   Milano       Olbia  None  None  None\n",
       "4  Cascais    Bragança  None  None  None"
      ]
     },
     "execution_count": 63,
     "metadata": {},
     "output_type": "execute_result"
    }
   ],
   "source": [
    "route_origin.head()"
   ]
  },
  {
   "cell_type": "code",
   "execution_count": 64,
   "metadata": {},
   "outputs": [],
   "source": [
    "route_origin.reset_index(drop=True, inplace=True)"
   ]
  },
  {
   "cell_type": "code",
   "execution_count": 65,
   "metadata": {},
   "outputs": [
    {
     "name": "stdout",
     "output_type": "stream",
     "text": [
      "<class 'pandas.core.frame.DataFrame'>\n",
      "RangeIndex: 90319 entries, 0 to 90318\n",
      "Data columns (total 5 columns):\n",
      " #   Column  Non-Null Count  Dtype \n",
      "---  ------  --------------  ----- \n",
      " 0   0       90319 non-null  object\n",
      " 1   1       90113 non-null  object\n",
      " 2   2       57 non-null     object\n",
      " 3   3       6 non-null      object\n",
      " 4   4       1 non-null      object\n",
      "dtypes: object(5)\n",
      "memory usage: 3.4+ MB\n"
     ]
    }
   ],
   "source": [
    "route_origin.info() #will assume that other 'to' are not necessary (writing typos)"
   ]
  },
  {
   "cell_type": "code",
   "execution_count": 66,
   "metadata": {},
   "outputs": [
    {
     "data": {
      "text/plain": [
       "array(['Moroni to Moheli', 'Moroni to Anjouan', 'Anjouan to Dzaoudzi',\n",
       "       ..., 'Budapest to Göteborg', 'London to Burgas',\n",
       "       'Paris Beauvais to Riga'], dtype=object)"
      ]
     },
     "execution_count": 66,
     "metadata": {},
     "output_type": "execute_result"
    }
   ],
   "source": [
    "df.ROUTE.unique() #clearly origin and destiny separated by 'to'"
   ]
  },
  {
   "cell_type": "code",
   "execution_count": 67,
   "metadata": {},
   "outputs": [],
   "source": [
    "route_origin.reset_index(drop=True, inplace=True)"
   ]
  },
  {
   "cell_type": "code",
   "execution_count": 68,
   "metadata": {},
   "outputs": [
    {
     "data": {
      "text/html": [
       "<div>\n",
       "<style scoped>\n",
       "    .dataframe tbody tr th:only-of-type {\n",
       "        vertical-align: middle;\n",
       "    }\n",
       "\n",
       "    .dataframe tbody tr th {\n",
       "        vertical-align: top;\n",
       "    }\n",
       "\n",
       "    .dataframe thead th {\n",
       "        text-align: right;\n",
       "    }\n",
       "</style>\n",
       "<table border=\"1\" class=\"dataframe\">\n",
       "  <thead>\n",
       "    <tr style=\"text-align: right;\">\n",
       "      <th></th>\n",
       "      <th>AIRLINENAME</th>\n",
       "      <th>CABINTYPE</th>\n",
       "      <th>DATEFLOWN</th>\n",
       "      <th>DATEPUB</th>\n",
       "      <th>ENTERTAINMENTRATING</th>\n",
       "      <th>FOODRATING</th>\n",
       "      <th>GROUNDSERVICERATING</th>\n",
       "      <th>ORIGINCOUNTRY</th>\n",
       "      <th>OVERALLSCORE</th>\n",
       "      <th>RECOMMENDED</th>\n",
       "      <th>REVIEW</th>\n",
       "      <th>ROUTE</th>\n",
       "      <th>SEATCOMFORTRATING</th>\n",
       "      <th>SERVICERATING</th>\n",
       "      <th>SLUG</th>\n",
       "      <th>TITLE</th>\n",
       "      <th>TRAVELLER</th>\n",
       "      <th>PURPOSE</th>\n",
       "      <th>TRIPVERIFIED</th>\n",
       "      <th>VALUERATING</th>\n",
       "      <th>WIFIRATING</th>\n",
       "      <th>UNIQUE_ID</th>\n",
       "    </tr>\n",
       "  </thead>\n",
       "  <tbody>\n",
       "    <tr>\n",
       "      <th>15806</th>\n",
       "      <td>American Airlines</td>\n",
       "      <td>Economy Class</td>\n",
       "      <td>2019-08-01</td>\n",
       "      <td>19th August 2019</td>\n",
       "      <td>0</td>\n",
       "      <td>1</td>\n",
       "      <td>1</td>\n",
       "      <td>UnitedStates</td>\n",
       "      <td>1</td>\n",
       "      <td>no</td>\n",
       "      <td>Phoenix to Houston IAH. My back still hurts fr...</td>\n",
       "      <td>Phoenix to Houston IAH</td>\n",
       "      <td>1</td>\n",
       "      <td>2</td>\n",
       "      <td>american-airlines</td>\n",
       "      <td>most cramped seats</td>\n",
       "      <td>Solo</td>\n",
       "      <td>Leisure</td>\n",
       "      <td>Not Verified</td>\n",
       "      <td>1</td>\n",
       "      <td>0</td>\n",
       "      <td>c4db2959-dc76-436c-9ee6-c06884a8cff0</td>\n",
       "    </tr>\n",
       "  </tbody>\n",
       "</table>\n",
       "</div>"
      ],
      "text/plain": [
       "             AIRLINENAME      CABINTYPE  DATEFLOWN           DATEPUB  \\\n",
       "15806  American Airlines  Economy Class 2019-08-01  19th August 2019   \n",
       "\n",
       "       ENTERTAINMENTRATING  FOODRATING  GROUNDSERVICERATING ORIGINCOUNTRY  \\\n",
       "15806                    0           1                    1  UnitedStates   \n",
       "\n",
       "       OVERALLSCORE RECOMMENDED  \\\n",
       "15806             1          no   \n",
       "\n",
       "                                                  REVIEW  \\\n",
       "15806  Phoenix to Houston IAH. My back still hurts fr...   \n",
       "\n",
       "                         ROUTE  SEATCOMFORTRATING  SERVICERATING  \\\n",
       "15806  Phoenix to Houston IAH                   1              2   \n",
       "\n",
       "                    SLUG               TITLE TRAVELLER  PURPOSE  TRIPVERIFIED  \\\n",
       "15806  american-airlines  most cramped seats      Solo  Leisure  Not Verified   \n",
       "\n",
       "       VALUERATING  WIFIRATING                             UNIQUE_ID  \n",
       "15806            1           0  c4db2959-dc76-436c-9ee6-c06884a8cff0  "
      ]
     },
     "execution_count": 68,
     "metadata": {},
     "output_type": "execute_result"
    }
   ],
   "source": [
    "df.sample()"
   ]
  },
  {
   "cell_type": "code",
   "execution_count": 69,
   "metadata": {},
   "outputs": [],
   "source": [
    "df.reset_index(drop=True, inplace=True) #important to reset index or won't fit the new variables with route"
   ]
  },
  {
   "cell_type": "code",
   "execution_count": 70,
   "metadata": {},
   "outputs": [
    {
     "data": {
      "text/plain": [
       "11"
      ]
     },
     "execution_count": 70,
     "metadata": {},
     "output_type": "execute_result"
    }
   ],
   "source": [
    "df.columns.get_loc('ROUTE')"
   ]
  },
  {
   "cell_type": "code",
   "execution_count": 71,
   "metadata": {},
   "outputs": [],
   "source": [
    "df = pd.concat([df.iloc[:, :12], route_origin, df.iloc[:, 12:]], axis=1)"
   ]
  },
  {
   "cell_type": "code",
   "execution_count": 72,
   "metadata": {},
   "outputs": [],
   "source": [
    "pd.set_option('display.max_columns', None) #to check all columns when sampling the df"
   ]
  },
  {
   "cell_type": "code",
   "execution_count": 73,
   "metadata": {},
   "outputs": [
    {
     "data": {
      "text/html": [
       "<div>\n",
       "<style scoped>\n",
       "    .dataframe tbody tr th:only-of-type {\n",
       "        vertical-align: middle;\n",
       "    }\n",
       "\n",
       "    .dataframe tbody tr th {\n",
       "        vertical-align: top;\n",
       "    }\n",
       "\n",
       "    .dataframe thead th {\n",
       "        text-align: right;\n",
       "    }\n",
       "</style>\n",
       "<table border=\"1\" class=\"dataframe\">\n",
       "  <thead>\n",
       "    <tr style=\"text-align: right;\">\n",
       "      <th></th>\n",
       "      <th>AIRLINENAME</th>\n",
       "      <th>CABINTYPE</th>\n",
       "      <th>DATEFLOWN</th>\n",
       "      <th>DATEPUB</th>\n",
       "      <th>ENTERTAINMENTRATING</th>\n",
       "      <th>FOODRATING</th>\n",
       "      <th>GROUNDSERVICERATING</th>\n",
       "      <th>ORIGINCOUNTRY</th>\n",
       "      <th>OVERALLSCORE</th>\n",
       "      <th>RECOMMENDED</th>\n",
       "      <th>REVIEW</th>\n",
       "      <th>ROUTE</th>\n",
       "      <th>0</th>\n",
       "      <th>1</th>\n",
       "      <th>2</th>\n",
       "      <th>3</th>\n",
       "      <th>4</th>\n",
       "      <th>SEATCOMFORTRATING</th>\n",
       "      <th>SERVICERATING</th>\n",
       "      <th>SLUG</th>\n",
       "      <th>TITLE</th>\n",
       "      <th>TRAVELLER</th>\n",
       "      <th>PURPOSE</th>\n",
       "      <th>TRIPVERIFIED</th>\n",
       "      <th>VALUERATING</th>\n",
       "      <th>WIFIRATING</th>\n",
       "      <th>UNIQUE_ID</th>\n",
       "    </tr>\n",
       "  </thead>\n",
       "  <tbody>\n",
       "    <tr>\n",
       "      <th>30763</th>\n",
       "      <td>Etihad Airways</td>\n",
       "      <td>Economy Class</td>\n",
       "      <td>2019-03-01</td>\n",
       "      <td>19th March 2019</td>\n",
       "      <td>4</td>\n",
       "      <td>4</td>\n",
       "      <td>2</td>\n",
       "      <td>UnitedKingdom</td>\n",
       "      <td>8</td>\n",
       "      <td>yes</td>\n",
       "      <td>Mumbai to London via Abu Dhabi. I can only sur...</td>\n",
       "      <td>Mumbai to London via Abu Dhabi</td>\n",
       "      <td>Mumbai</td>\n",
       "      <td>London via Abu Dhabi</td>\n",
       "      <td>None</td>\n",
       "      <td>None</td>\n",
       "      <td>None</td>\n",
       "      <td>4</td>\n",
       "      <td>4</td>\n",
       "      <td>etihad-airways</td>\n",
       "      <td>Emirates and Qatar do a better job</td>\n",
       "      <td>Couple</td>\n",
       "      <td>Leisure</td>\n",
       "      <td>Trip Verified</td>\n",
       "      <td>5</td>\n",
       "      <td>1</td>\n",
       "      <td>fe64e189-3169-48bd-aeb4-de1e9f160ba8</td>\n",
       "    </tr>\n",
       "  </tbody>\n",
       "</table>\n",
       "</div>"
      ],
      "text/plain": [
       "          AIRLINENAME      CABINTYPE  DATEFLOWN          DATEPUB  \\\n",
       "30763  Etihad Airways  Economy Class 2019-03-01  19th March 2019   \n",
       "\n",
       "       ENTERTAINMENTRATING  FOODRATING  GROUNDSERVICERATING  ORIGINCOUNTRY  \\\n",
       "30763                    4           4                    2  UnitedKingdom   \n",
       "\n",
       "       OVERALLSCORE RECOMMENDED  \\\n",
       "30763             8         yes   \n",
       "\n",
       "                                                  REVIEW  \\\n",
       "30763  Mumbai to London via Abu Dhabi. I can only sur...   \n",
       "\n",
       "                                ROUTE        0                      1     2  \\\n",
       "30763  Mumbai to London via Abu Dhabi  Mumbai    London via Abu Dhabi  None   \n",
       "\n",
       "          3     4  SEATCOMFORTRATING  SERVICERATING            SLUG  \\\n",
       "30763  None  None                  4              4  etihad-airways   \n",
       "\n",
       "                                    TITLE TRAVELLER  PURPOSE   TRIPVERIFIED  \\\n",
       "30763  Emirates and Qatar do a better job    Couple  Leisure  Trip Verified   \n",
       "\n",
       "       VALUERATING  WIFIRATING                             UNIQUE_ID  \n",
       "30763            5           1  fe64e189-3169-48bd-aeb4-de1e9f160ba8  "
      ]
     },
     "execution_count": 73,
     "metadata": {},
     "output_type": "execute_result"
    }
   ],
   "source": [
    "df.sample()"
   ]
  },
  {
   "cell_type": "code",
   "execution_count": 74,
   "metadata": {},
   "outputs": [],
   "source": [
    "df.drop(columns=df.columns[15], inplace=True) #3 times, to take the extra 'tos', we are goint to assume there is only a 'to'"
   ]
  },
  {
   "cell_type": "code",
   "execution_count": 75,
   "metadata": {},
   "outputs": [],
   "source": [
    "df.drop(columns=df.columns[15], inplace=True) "
   ]
  },
  {
   "cell_type": "code",
   "execution_count": 76,
   "metadata": {},
   "outputs": [],
   "source": [
    "df.drop(columns=df.columns[14], inplace=True) "
   ]
  },
  {
   "cell_type": "code",
   "execution_count": 77,
   "metadata": {},
   "outputs": [],
   "source": [
    "df.rename(columns={df.columns[12]: 'ORIGIN'}, inplace=True)\n",
    "df.rename(columns={df.columns[13]: 'DESTINY'}, inplace=True)"
   ]
  },
  {
   "cell_type": "code",
   "execution_count": 78,
   "metadata": {},
   "outputs": [],
   "source": [
    "\n",
    "df.reset_index(drop=True, inplace=True)"
   ]
  },
  {
   "cell_type": "code",
   "execution_count": 79,
   "metadata": {},
   "outputs": [],
   "source": [
    "route_destiny = df[\"DESTINY\"].str.split(r\"\\bvia\\b\", expand=True)"
   ]
  },
  {
   "cell_type": "code",
   "execution_count": 80,
   "metadata": {},
   "outputs": [
    {
     "data": {
      "text/html": [
       "<div>\n",
       "<style scoped>\n",
       "    .dataframe tbody tr th:only-of-type {\n",
       "        vertical-align: middle;\n",
       "    }\n",
       "\n",
       "    .dataframe tbody tr th {\n",
       "        vertical-align: top;\n",
       "    }\n",
       "\n",
       "    .dataframe thead th {\n",
       "        text-align: right;\n",
       "    }\n",
       "</style>\n",
       "<table border=\"1\" class=\"dataframe\">\n",
       "  <thead>\n",
       "    <tr style=\"text-align: right;\">\n",
       "      <th></th>\n",
       "      <th>0</th>\n",
       "      <th>1</th>\n",
       "      <th>2</th>\n",
       "    </tr>\n",
       "  </thead>\n",
       "  <tbody>\n",
       "    <tr>\n",
       "      <th>64977</th>\n",
       "      <td>Dar es Salaam</td>\n",
       "      <td>None</td>\n",
       "      <td>None</td>\n",
       "    </tr>\n",
       "  </tbody>\n",
       "</table>\n",
       "</div>"
      ],
      "text/plain": [
       "                    0     1     2\n",
       "64977   Dar es Salaam  None  None"
      ]
     },
     "execution_count": 80,
     "metadata": {},
     "output_type": "execute_result"
    }
   ],
   "source": [
    "route_destiny.sample() #if scale is 'none' this means no scale was done. "
   ]
  },
  {
   "cell_type": "code",
   "execution_count": 81,
   "metadata": {},
   "outputs": [],
   "source": [
    "route_destiny.rename(columns={route_destiny.columns[0]: 'DESTINY2'}, inplace=True)\n",
    "route_destiny.rename(columns={route_destiny.columns[1]: 'SCALE'}, inplace=True)\n",
    "route_destiny.rename(columns={route_destiny.columns[2]: 'scale2'}, inplace=True)"
   ]
  },
  {
   "cell_type": "code",
   "execution_count": 82,
   "metadata": {},
   "outputs": [
    {
     "data": {
      "text/plain": [
       "scale2\n",
       "Paris          1\n",
       "HKG            1\n",
       "Mexico City    1\n",
       "Name: count, dtype: int64"
      ]
     },
     "execution_count": 82,
     "metadata": {},
     "output_type": "execute_result"
    }
   ],
   "source": [
    "route_destiny.scale2.value_counts() #very few, we assume only if scale or not"
   ]
  },
  {
   "cell_type": "code",
   "execution_count": 83,
   "metadata": {},
   "outputs": [],
   "source": [
    "route_destiny.drop(columns=\"scale2\", inplace=True)"
   ]
  },
  {
   "cell_type": "code",
   "execution_count": 84,
   "metadata": {},
   "outputs": [],
   "source": [
    "route_destiny.reset_index(drop=True, inplace=True)"
   ]
  },
  {
   "cell_type": "code",
   "execution_count": 85,
   "metadata": {},
   "outputs": [
    {
     "data": {
      "text/plain": [
       "13"
      ]
     },
     "execution_count": 85,
     "metadata": {},
     "output_type": "execute_result"
    }
   ],
   "source": [
    "df.columns.get_loc('DESTINY')"
   ]
  },
  {
   "cell_type": "code",
   "execution_count": 86,
   "metadata": {},
   "outputs": [],
   "source": [
    "df = pd.concat([df.iloc[:, :14], route_destiny, df.iloc[:, 14:]], axis=1)"
   ]
  },
  {
   "cell_type": "code",
   "execution_count": 87,
   "metadata": {},
   "outputs": [
    {
     "data": {
      "text/html": [
       "<div>\n",
       "<style scoped>\n",
       "    .dataframe tbody tr th:only-of-type {\n",
       "        vertical-align: middle;\n",
       "    }\n",
       "\n",
       "    .dataframe tbody tr th {\n",
       "        vertical-align: top;\n",
       "    }\n",
       "\n",
       "    .dataframe thead th {\n",
       "        text-align: right;\n",
       "    }\n",
       "</style>\n",
       "<table border=\"1\" class=\"dataframe\">\n",
       "  <thead>\n",
       "    <tr style=\"text-align: right;\">\n",
       "      <th></th>\n",
       "      <th>AIRLINENAME</th>\n",
       "      <th>CABINTYPE</th>\n",
       "      <th>DATEFLOWN</th>\n",
       "      <th>DATEPUB</th>\n",
       "      <th>ENTERTAINMENTRATING</th>\n",
       "      <th>FOODRATING</th>\n",
       "      <th>GROUNDSERVICERATING</th>\n",
       "      <th>ORIGINCOUNTRY</th>\n",
       "      <th>OVERALLSCORE</th>\n",
       "      <th>RECOMMENDED</th>\n",
       "      <th>REVIEW</th>\n",
       "      <th>ROUTE</th>\n",
       "      <th>ORIGIN</th>\n",
       "      <th>DESTINY</th>\n",
       "      <th>DESTINY2</th>\n",
       "      <th>SCALE</th>\n",
       "      <th>SEATCOMFORTRATING</th>\n",
       "      <th>SERVICERATING</th>\n",
       "      <th>SLUG</th>\n",
       "      <th>TITLE</th>\n",
       "      <th>TRAVELLER</th>\n",
       "      <th>PURPOSE</th>\n",
       "      <th>TRIPVERIFIED</th>\n",
       "      <th>VALUERATING</th>\n",
       "      <th>WIFIRATING</th>\n",
       "      <th>UNIQUE_ID</th>\n",
       "    </tr>\n",
       "  </thead>\n",
       "  <tbody>\n",
       "    <tr>\n",
       "      <th>53585</th>\n",
       "      <td>Lufthansa</td>\n",
       "      <td>Economy Class</td>\n",
       "      <td>2016-10-01</td>\n",
       "      <td>9th October 2016</td>\n",
       "      <td>2</td>\n",
       "      <td>2</td>\n",
       "      <td>1</td>\n",
       "      <td>Germany</td>\n",
       "      <td>3</td>\n",
       "      <td>no</td>\n",
       "      <td>✅ , |  Once more the Lufthansa bus from Strasb...</td>\n",
       "      <td>SXB to ATH via FRA</td>\n",
       "      <td>SXB</td>\n",
       "      <td>ATH via FRA</td>\n",
       "      <td>ATH</td>\n",
       "      <td>FRA</td>\n",
       "      <td>2</td>\n",
       "      <td>4</td>\n",
       "      <td>lufthansa</td>\n",
       "      <td>LH is really bad in timeliness</td>\n",
       "      <td>Solo</td>\n",
       "      <td>Bussiness</td>\n",
       "      <td>Not Verified</td>\n",
       "      <td>3</td>\n",
       "      <td>3</td>\n",
       "      <td>14dc76e1-0471-4c57-9747-f2f36b1d4287</td>\n",
       "    </tr>\n",
       "  </tbody>\n",
       "</table>\n",
       "</div>"
      ],
      "text/plain": [
       "      AIRLINENAME      CABINTYPE  DATEFLOWN           DATEPUB  \\\n",
       "53585   Lufthansa  Economy Class 2016-10-01  9th October 2016   \n",
       "\n",
       "       ENTERTAINMENTRATING  FOODRATING  GROUNDSERVICERATING ORIGINCOUNTRY  \\\n",
       "53585                    2           2                    1       Germany   \n",
       "\n",
       "       OVERALLSCORE RECOMMENDED  \\\n",
       "53585             3          no   \n",
       "\n",
       "                                                  REVIEW                ROUTE  \\\n",
       "53585  ✅ , |  Once more the Lufthansa bus from Strasb...  SXB to ATH via FRA    \n",
       "\n",
       "      ORIGIN        DESTINY DESTINY2  SCALE  SEATCOMFORTRATING  SERVICERATING  \\\n",
       "53585   SXB    ATH via FRA      ATH    FRA                   2              4   \n",
       "\n",
       "            SLUG                           TITLE TRAVELLER    PURPOSE  \\\n",
       "53585  lufthansa  LH is really bad in timeliness      Solo  Bussiness   \n",
       "\n",
       "       TRIPVERIFIED  VALUERATING  WIFIRATING  \\\n",
       "53585  Not Verified            3           3   \n",
       "\n",
       "                                  UNIQUE_ID  \n",
       "53585  14dc76e1-0471-4c57-9747-f2f36b1d4287  "
      ]
     },
     "execution_count": 87,
     "metadata": {},
     "output_type": "execute_result"
    }
   ],
   "source": [
    "df.sample()"
   ]
  },
  {
   "cell_type": "code",
   "execution_count": 88,
   "metadata": {},
   "outputs": [],
   "source": [
    "df.drop(columns=\"DESTINY\", inplace=True)"
   ]
  },
  {
   "cell_type": "code",
   "execution_count": 89,
   "metadata": {},
   "outputs": [],
   "source": [
    "df.rename(columns={'DESTINY2':'DESTINY'}, inplace=True)"
   ]
  },
  {
   "cell_type": "code",
   "execution_count": 90,
   "metadata": {},
   "outputs": [],
   "source": [
    "df.reset_index(drop=True, inplace=True) "
   ]
  },
  {
   "cell_type": "code",
   "execution_count": 91,
   "metadata": {},
   "outputs": [
    {
     "name": "stdout",
     "output_type": "stream",
     "text": [
      "<class 'pandas.core.frame.DataFrame'>\n",
      "RangeIndex: 90319 entries, 0 to 90318\n",
      "Data columns (total 25 columns):\n",
      " #   Column               Non-Null Count  Dtype         \n",
      "---  ------               --------------  -----         \n",
      " 0   AIRLINENAME          90319 non-null  object        \n",
      " 1   CABINTYPE            90319 non-null  object        \n",
      " 2   DATEFLOWN            90319 non-null  datetime64[ns]\n",
      " 3   DATEPUB              90319 non-null  object        \n",
      " 4   ENTERTAINMENTRATING  90319 non-null  int64         \n",
      " 5   FOODRATING           90319 non-null  int64         \n",
      " 6   GROUNDSERVICERATING  90319 non-null  int64         \n",
      " 7   ORIGINCOUNTRY        90319 non-null  object        \n",
      " 8   OVERALLSCORE         90319 non-null  int32         \n",
      " 9   RECOMMENDED          90319 non-null  object        \n",
      " 10  REVIEW               90319 non-null  object        \n",
      " 11  ROUTE                90319 non-null  object        \n",
      " 12  ORIGIN               90319 non-null  object        \n",
      " 13  DESTINY              90113 non-null  object        \n",
      " 14  SCALE                23682 non-null  object        \n",
      " 15  SEATCOMFORTRATING    90319 non-null  int64         \n",
      " 16  SERVICERATING        90319 non-null  int64         \n",
      " 17  SLUG                 90319 non-null  object        \n",
      " 18  TITLE                90319 non-null  object        \n",
      " 19  TRAVELLER            90319 non-null  object        \n",
      " 20  PURPOSE              90319 non-null  object        \n",
      " 21  TRIPVERIFIED         90319 non-null  object        \n",
      " 22  VALUERATING          90319 non-null  int64         \n",
      " 23  WIFIRATING           90319 non-null  int64         \n",
      " 24  UNIQUE_ID            90319 non-null  object        \n",
      "dtypes: datetime64[ns](1), int32(1), int64(7), object(16)\n",
      "memory usage: 16.9+ MB\n"
     ]
    }
   ],
   "source": [
    "df.info()"
   ]
  },
  {
   "cell_type": "code",
   "execution_count": 92,
   "metadata": {},
   "outputs": [],
   "source": [
    "df= df.dropna(axis=0, subset=['DESTINY']) # too complicated to clean and separate, so drop (only 37 values)"
   ]
  },
  {
   "cell_type": "code",
   "execution_count": 93,
   "metadata": {},
   "outputs": [],
   "source": [
    "#delete spaces before and after\n",
    "df[\"ORIGIN\"]=df.ORIGIN.str.strip()\n",
    "df[\"DESTINY\"]=df.DESTINY.str.strip()"
   ]
  },
  {
   "cell_type": "code",
   "execution_count": 94,
   "metadata": {},
   "outputs": [],
   "source": [
    "df.insert(15,'SCALE_YN',np.where(df['SCALE'].isna(), 0,1))"
   ]
  },
  {
   "cell_type": "code",
   "execution_count": 95,
   "metadata": {},
   "outputs": [],
   "source": [
    "df.drop(columns=\"SCALE\", inplace=True)"
   ]
  },
  {
   "cell_type": "code",
   "execution_count": 96,
   "metadata": {},
   "outputs": [
    {
     "data": {
      "text/html": [
       "<div>\n",
       "<style scoped>\n",
       "    .dataframe tbody tr th:only-of-type {\n",
       "        vertical-align: middle;\n",
       "    }\n",
       "\n",
       "    .dataframe tbody tr th {\n",
       "        vertical-align: top;\n",
       "    }\n",
       "\n",
       "    .dataframe thead th {\n",
       "        text-align: right;\n",
       "    }\n",
       "</style>\n",
       "<table border=\"1\" class=\"dataframe\">\n",
       "  <thead>\n",
       "    <tr style=\"text-align: right;\">\n",
       "      <th></th>\n",
       "      <th>AIRLINENAME</th>\n",
       "      <th>CABINTYPE</th>\n",
       "      <th>DATEFLOWN</th>\n",
       "      <th>DATEPUB</th>\n",
       "      <th>ENTERTAINMENTRATING</th>\n",
       "      <th>FOODRATING</th>\n",
       "      <th>GROUNDSERVICERATING</th>\n",
       "      <th>ORIGINCOUNTRY</th>\n",
       "      <th>OVERALLSCORE</th>\n",
       "      <th>RECOMMENDED</th>\n",
       "      <th>REVIEW</th>\n",
       "      <th>ROUTE</th>\n",
       "      <th>ORIGIN</th>\n",
       "      <th>DESTINY</th>\n",
       "      <th>SCALE_YN</th>\n",
       "      <th>SEATCOMFORTRATING</th>\n",
       "      <th>SERVICERATING</th>\n",
       "      <th>SLUG</th>\n",
       "      <th>TITLE</th>\n",
       "      <th>TRAVELLER</th>\n",
       "      <th>PURPOSE</th>\n",
       "      <th>TRIPVERIFIED</th>\n",
       "      <th>VALUERATING</th>\n",
       "      <th>WIFIRATING</th>\n",
       "      <th>UNIQUE_ID</th>\n",
       "    </tr>\n",
       "  </thead>\n",
       "  <tbody>\n",
       "    <tr>\n",
       "      <th>44677</th>\n",
       "      <td>Jetblue Airways</td>\n",
       "      <td>Economy Class</td>\n",
       "      <td>2021-06-01</td>\n",
       "      <td>6th June 2021</td>\n",
       "      <td>1</td>\n",
       "      <td>1</td>\n",
       "      <td>1</td>\n",
       "      <td>UnitedStates</td>\n",
       "      <td>1</td>\n",
       "      <td>no</td>\n",
       "      <td>I bought 4 tickets from Orlando to Jamaica (1s...</td>\n",
       "      <td>Orlando to Montego Bay</td>\n",
       "      <td>Orlando</td>\n",
       "      <td>Montego Bay</td>\n",
       "      <td>0</td>\n",
       "      <td>2</td>\n",
       "      <td>1</td>\n",
       "      <td>jetblue-airways</td>\n",
       "      <td>has the worst customer service</td>\n",
       "      <td>Family</td>\n",
       "      <td>Leisure</td>\n",
       "      <td>Trip Verified</td>\n",
       "      <td>1</td>\n",
       "      <td>1</td>\n",
       "      <td>a25af882-aa05-474c-9062-8b9124a9b9e0</td>\n",
       "    </tr>\n",
       "  </tbody>\n",
       "</table>\n",
       "</div>"
      ],
      "text/plain": [
       "           AIRLINENAME      CABINTYPE  DATEFLOWN        DATEPUB  \\\n",
       "44677  Jetblue Airways  Economy Class 2021-06-01  6th June 2021   \n",
       "\n",
       "       ENTERTAINMENTRATING  FOODRATING  GROUNDSERVICERATING ORIGINCOUNTRY  \\\n",
       "44677                    1           1                    1  UnitedStates   \n",
       "\n",
       "       OVERALLSCORE RECOMMENDED  \\\n",
       "44677             1          no   \n",
       "\n",
       "                                                  REVIEW  \\\n",
       "44677  I bought 4 tickets from Orlando to Jamaica (1s...   \n",
       "\n",
       "                        ROUTE   ORIGIN      DESTINY  SCALE_YN  \\\n",
       "44677  Orlando to Montego Bay  Orlando  Montego Bay         0   \n",
       "\n",
       "       SEATCOMFORTRATING  SERVICERATING             SLUG  \\\n",
       "44677                  2              1  jetblue-airways   \n",
       "\n",
       "                                TITLE TRAVELLER  PURPOSE   TRIPVERIFIED  \\\n",
       "44677  has the worst customer service    Family  Leisure  Trip Verified   \n",
       "\n",
       "       VALUERATING  WIFIRATING                             UNIQUE_ID  \n",
       "44677            1           1  a25af882-aa05-474c-9062-8b9124a9b9e0  "
      ]
     },
     "execution_count": 96,
     "metadata": {},
     "output_type": "execute_result"
    }
   ],
   "source": [
    "df.sample()"
   ]
  },
  {
   "cell_type": "code",
   "execution_count": 97,
   "metadata": {},
   "outputs": [],
   "source": [
    "#create a variable that states whether the flight was overseas or not. If entertainment diff. from 0 -->overseas; otherwise, no.\n",
    "df['LONGDISTANCE']=np.where(df.ENTERTAINMENTRATING==0,0,1)"
   ]
  },
  {
   "cell_type": "code",
   "execution_count": 98,
   "metadata": {},
   "outputs": [],
   "source": [
    "df['TRIPVERIFIED']=np.where(df['TRIPVERIFIED']==\"Trip Verified\", 1,0) "
   ]
  },
  {
   "cell_type": "code",
   "execution_count": 99,
   "metadata": {},
   "outputs": [
    {
     "data": {
      "text/plain": [
       "RECOMMENDED\n",
       "no     59224\n",
       "yes    30889\n",
       "Name: count, dtype: int64"
      ]
     },
     "execution_count": 99,
     "metadata": {},
     "output_type": "execute_result"
    }
   ],
   "source": [
    "df.RECOMMENDED.value_counts() #quite imbalanced...better check later balancing with SMOTE?"
   ]
  },
  {
   "cell_type": "code",
   "execution_count": 100,
   "metadata": {},
   "outputs": [],
   "source": [
    "df_categ=df.copy()"
   ]
  },
  {
   "cell_type": "code",
   "execution_count": 101,
   "metadata": {},
   "outputs": [],
   "source": [
    "df_categ=df_categ.to_excel((\"datasets/categoricalclean.xlsx\"))"
   ]
  },
  {
   "cell_type": "code",
   "execution_count": 102,
   "metadata": {},
   "outputs": [],
   "source": [
    "#pass RECOMMENDED TO DUMMY\n",
    "df[\"RECOMMENDED\"]=np.where(df[\"RECOMMENDED\"]==\"yes\",1,0)"
   ]
  },
  {
   "cell_type": "code",
   "execution_count": 103,
   "metadata": {},
   "outputs": [],
   "source": [
    "#change categoricals string to categorical numbers 1=lowest class and 4=highest class\n",
    "df['CABINTYPE']=np.where(df['CABINTYPE']==\"Economy Class\", 1,df.CABINTYPE)\n",
    "df['CABINTYPE']=np.where(df['CABINTYPE']==\"Premium Economy\", 2,df.CABINTYPE)\n",
    "df['CABINTYPE']=np.where(df['CABINTYPE']==\"Business Class\", 3,df.CABINTYPE) #in order to avoid such an inbalanced class (firstclass few n)\n",
    "df['CABINTYPE']=np.where(df['CABINTYPE']==\"First Class\", 4,df.CABINTYPE)"
   ]
  },
  {
   "cell_type": "code",
   "execution_count": 104,
   "metadata": {},
   "outputs": [],
   "source": [
    "#pass froms string to int\n",
    "df[\"CABINTYPE\"]=df[\"CABINTYPE\"].astype(int)"
   ]
  },
  {
   "cell_type": "code",
   "execution_count": 105,
   "metadata": {},
   "outputs": [
    {
     "data": {
      "text/plain": [
       "TRAVELLER\n",
       "Solo      46871\n",
       "Couple    23569\n",
       "Family    19673\n",
       "Name: count, dtype: int64"
      ]
     },
     "execution_count": 105,
     "metadata": {},
     "output_type": "execute_result"
    }
   ],
   "source": [
    "df.TRAVELLER.value_counts()"
   ]
  },
  {
   "cell_type": "code",
   "execution_count": 106,
   "metadata": {},
   "outputs": [],
   "source": [
    "#change the variable traveller to numeric (based on specific order)\n",
    "df['TRAVELLER']=np.where(df['TRAVELLER']==\"Solo\", 1,df.TRAVELLER)\n",
    "df['TRAVELLER']=np.where(df['TRAVELLER']==\"Couple\", 2,df.TRAVELLER)\n",
    "df['TRAVELLER']=np.where(df['TRAVELLER']==\"Family\", 3,df.TRAVELLER)"
   ]
  },
  {
   "cell_type": "code",
   "execution_count": 107,
   "metadata": {},
   "outputs": [],
   "source": [
    "#pass froms string to int\n",
    "df[\"TRAVELLER\"]=df[\"TRAVELLER\"].astype(int)"
   ]
  },
  {
   "cell_type": "code",
   "execution_count": 108,
   "metadata": {},
   "outputs": [
    {
     "data": {
      "text/plain": [
       "PURPOSE\n",
       "Leisure      76103\n",
       "Bussiness    14010\n",
       "Name: count, dtype: int64"
      ]
     },
     "execution_count": 108,
     "metadata": {},
     "output_type": "execute_result"
    }
   ],
   "source": [
    "df.PURPOSE.value_counts()"
   ]
  },
  {
   "cell_type": "code",
   "execution_count": 109,
   "metadata": {},
   "outputs": [],
   "source": [
    "#change the variable traveller to numeric (based on specific order)\n",
    "df['PURPOSE']=np.where(df['PURPOSE']==\"Leisure\", 1,0) "
   ]
  },
  {
   "cell_type": "code",
   "execution_count": 110,
   "metadata": {},
   "outputs": [
    {
     "data": {
      "text/html": [
       "<div>\n",
       "<style scoped>\n",
       "    .dataframe tbody tr th:only-of-type {\n",
       "        vertical-align: middle;\n",
       "    }\n",
       "\n",
       "    .dataframe tbody tr th {\n",
       "        vertical-align: top;\n",
       "    }\n",
       "\n",
       "    .dataframe thead th {\n",
       "        text-align: right;\n",
       "    }\n",
       "</style>\n",
       "<table border=\"1\" class=\"dataframe\">\n",
       "  <thead>\n",
       "    <tr style=\"text-align: right;\">\n",
       "      <th></th>\n",
       "      <th>AIRLINENAME</th>\n",
       "      <th>CABINTYPE</th>\n",
       "      <th>DATEFLOWN</th>\n",
       "      <th>DATEPUB</th>\n",
       "      <th>ENTERTAINMENTRATING</th>\n",
       "      <th>FOODRATING</th>\n",
       "      <th>GROUNDSERVICERATING</th>\n",
       "      <th>ORIGINCOUNTRY</th>\n",
       "      <th>OVERALLSCORE</th>\n",
       "      <th>RECOMMENDED</th>\n",
       "      <th>REVIEW</th>\n",
       "      <th>ROUTE</th>\n",
       "      <th>ORIGIN</th>\n",
       "      <th>DESTINY</th>\n",
       "      <th>SCALE_YN</th>\n",
       "      <th>SEATCOMFORTRATING</th>\n",
       "      <th>SERVICERATING</th>\n",
       "      <th>SLUG</th>\n",
       "      <th>TITLE</th>\n",
       "      <th>TRAVELLER</th>\n",
       "      <th>PURPOSE</th>\n",
       "      <th>TRIPVERIFIED</th>\n",
       "      <th>VALUERATING</th>\n",
       "      <th>WIFIRATING</th>\n",
       "      <th>UNIQUE_ID</th>\n",
       "      <th>LONGDISTANCE</th>\n",
       "    </tr>\n",
       "  </thead>\n",
       "  <tbody>\n",
       "    <tr>\n",
       "      <th>88804</th>\n",
       "      <td>WOW air</td>\n",
       "      <td>1</td>\n",
       "      <td>2018-12-01</td>\n",
       "      <td>20th December 2018</td>\n",
       "      <td>1</td>\n",
       "      <td>0</td>\n",
       "      <td>1</td>\n",
       "      <td>UnitedStates</td>\n",
       "      <td>1</td>\n",
       "      <td>0</td>\n",
       "      <td>Los Angeles to Berlin via Keflavik. I had a ve...</td>\n",
       "      <td>Los Angeles to Berlin via Keflavik</td>\n",
       "      <td>Los Angeles</td>\n",
       "      <td>Berlin</td>\n",
       "      <td>1</td>\n",
       "      <td>2</td>\n",
       "      <td>5</td>\n",
       "      <td>wow-air</td>\n",
       "      <td>very unpleasant experience</td>\n",
       "      <td>1</td>\n",
       "      <td>1</td>\n",
       "      <td>0</td>\n",
       "      <td>3</td>\n",
       "      <td>0</td>\n",
       "      <td>e642335a-a782-4d26-a6d8-8c9b6bafb8e7</td>\n",
       "      <td>1</td>\n",
       "    </tr>\n",
       "  </tbody>\n",
       "</table>\n",
       "</div>"
      ],
      "text/plain": [
       "      AIRLINENAME  CABINTYPE  DATEFLOWN             DATEPUB  \\\n",
       "88804     WOW air          1 2018-12-01  20th December 2018   \n",
       "\n",
       "       ENTERTAINMENTRATING  FOODRATING  GROUNDSERVICERATING ORIGINCOUNTRY  \\\n",
       "88804                    1           0                    1  UnitedStates   \n",
       "\n",
       "       OVERALLSCORE  RECOMMENDED  \\\n",
       "88804             1            0   \n",
       "\n",
       "                                                  REVIEW  \\\n",
       "88804  Los Angeles to Berlin via Keflavik. I had a ve...   \n",
       "\n",
       "                                    ROUTE       ORIGIN DESTINY  SCALE_YN  \\\n",
       "88804  Los Angeles to Berlin via Keflavik  Los Angeles  Berlin         1   \n",
       "\n",
       "       SEATCOMFORTRATING  SERVICERATING     SLUG                       TITLE  \\\n",
       "88804                  2              5  wow-air  very unpleasant experience   \n",
       "\n",
       "       TRAVELLER  PURPOSE  TRIPVERIFIED  VALUERATING  WIFIRATING  \\\n",
       "88804          1        1             0            3           0   \n",
       "\n",
       "                                  UNIQUE_ID  LONGDISTANCE  \n",
       "88804  e642335a-a782-4d26-a6d8-8c9b6bafb8e7             1  "
      ]
     },
     "execution_count": 110,
     "metadata": {},
     "output_type": "execute_result"
    }
   ],
   "source": [
    "df.sample()"
   ]
  },
  {
   "cell_type": "code",
   "execution_count": 111,
   "metadata": {},
   "outputs": [],
   "source": [
    "df['YEAR'] = df['DATEFLOWN'].dt.year"
   ]
  },
  {
   "cell_type": "code",
   "execution_count": 112,
   "metadata": {},
   "outputs": [
    {
     "data": {
      "text/plain": [
       "(90113, 27)"
      ]
     },
     "execution_count": 112,
     "metadata": {},
     "output_type": "execute_result"
    }
   ],
   "source": [
    "df.shape"
   ]
  },
  {
   "cell_type": "code",
   "execution_count": 113,
   "metadata": {},
   "outputs": [
    {
     "data": {
      "text/plain": [
       "YEAR\n",
       "2019    15199\n",
       "2018    14040\n",
       "2022    12142\n",
       "2016    11847\n",
       "2017    11481\n",
       "2015     9734\n",
       "2021     6329\n",
       "2020     5529\n",
       "2023     3557\n",
       "2014      147\n",
       "1677      105\n",
       "2013        2\n",
       "2012        1\n",
       "Name: count, dtype: int64"
      ]
     },
     "execution_count": 113,
     "metadata": {},
     "output_type": "execute_result"
    }
   ],
   "source": [
    "df.YEAR.value_counts() #1677 makes no sense! drop these 105 values"
   ]
  },
  {
   "cell_type": "code",
   "execution_count": 114,
   "metadata": {},
   "outputs": [],
   "source": [
    "df = df[(df.YEAR > 1677)] #avoid negative values --> 1677"
   ]
  },
  {
   "cell_type": "code",
   "execution_count": 115,
   "metadata": {},
   "outputs": [
    {
     "data": {
      "text/plain": [
       "(90008, 27)"
      ]
     },
     "execution_count": 115,
     "metadata": {},
     "output_type": "execute_result"
    }
   ],
   "source": [
    "##CLEAN DATABASE!\n",
    "df.shape"
   ]
  },
  {
   "cell_type": "code",
   "execution_count": 116,
   "metadata": {},
   "outputs": [],
   "source": [
    "#save clean data\n",
    "df_eda_clean=df.to_csv(\"datasets/cleandf.csv\")\n",
    "df_eda_clean=df.to_csv(\"datasets/streamlitdb/cleandf.csv\")"
   ]
  },
  {
   "cell_type": "code",
   "execution_count": 117,
   "metadata": {},
   "outputs": [],
   "source": [
    "df_eda_clean=df.copy()"
   ]
  }
 ],
 "metadata": {
  "kernelspec": {
   "display_name": "ironhack",
   "language": "python",
   "name": "python3"
  },
  "language_info": {
   "codemirror_mode": {
    "name": "ipython",
    "version": 3
   },
   "file_extension": ".py",
   "mimetype": "text/x-python",
   "name": "python",
   "nbconvert_exporter": "python",
   "pygments_lexer": "ipython3",
   "version": "3.11.7"
  }
 },
 "nbformat": 4,
 "nbformat_minor": 2
}
